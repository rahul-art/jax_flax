{
  "nbformat": 4,
  "nbformat_minor": 0,
  "metadata": {
    "colab": {
      "name": "Optimize Hugging Face models with Weights & Biases.ipynb",
      "provenance": [],
      "collapsed_sections": [],
      "toc_visible": true,
      "include_colab_link": true
    },
    "kernelspec": {
      "name": "python3",
      "display_name": "Python 3"
    },
    "accelerator": "GPU",
    "widgets": {
      "application/vnd.jupyter.widget-state+json": {
        "ecb3790546d84661beca18cdd4e29722": {
          "model_module": "@jupyter-widgets/controls",
          "model_name": "HBoxModel",
          "state": {
            "_view_name": "HBoxView",
            "_dom_classes": [],
            "_model_name": "HBoxModel",
            "_view_module": "@jupyter-widgets/controls",
            "_model_module_version": "1.5.0",
            "_view_count": null,
            "_view_module_version": "1.5.0",
            "box_style": "",
            "layout": "IPY_MODEL_26c145e843564330bf69371225cf5858",
            "_model_module": "@jupyter-widgets/controls",
            "children": [
              "IPY_MODEL_1f2d78dc203a4513b62b43d284f37c8b",
              "IPY_MODEL_e8cc2ee361b6428aaabd38cfee113a8c"
            ]
          }
        },
        "26c145e843564330bf69371225cf5858": {
          "model_module": "@jupyter-widgets/base",
          "model_name": "LayoutModel",
          "state": {
            "_view_name": "LayoutView",
            "grid_template_rows": null,
            "right": null,
            "justify_content": null,
            "_view_module": "@jupyter-widgets/base",
            "overflow": null,
            "_model_module_version": "1.2.0",
            "_view_count": null,
            "flex_flow": null,
            "width": null,
            "min_width": null,
            "border": null,
            "align_items": null,
            "bottom": null,
            "_model_module": "@jupyter-widgets/base",
            "top": null,
            "grid_column": null,
            "overflow_y": null,
            "overflow_x": null,
            "grid_auto_flow": null,
            "grid_area": null,
            "grid_template_columns": null,
            "flex": null,
            "_model_name": "LayoutModel",
            "justify_items": null,
            "grid_row": null,
            "max_height": null,
            "align_content": null,
            "visibility": null,
            "align_self": null,
            "height": null,
            "min_height": null,
            "padding": null,
            "grid_auto_rows": null,
            "grid_gap": null,
            "max_width": null,
            "order": null,
            "_view_module_version": "1.2.0",
            "grid_template_areas": null,
            "object_position": null,
            "object_fit": null,
            "grid_auto_columns": null,
            "margin": null,
            "display": null,
            "left": null
          }
        },
        "1f2d78dc203a4513b62b43d284f37c8b": {
          "model_module": "@jupyter-widgets/controls",
          "model_name": "FloatProgressModel",
          "state": {
            "_view_name": "ProgressView",
            "style": "IPY_MODEL_ba50998b319d416890b237e6473b541b",
            "_dom_classes": [],
            "description": "Downloading: ",
            "_model_name": "FloatProgressModel",
            "bar_style": "success",
            "max": 1506,
            "_view_module": "@jupyter-widgets/controls",
            "_model_module_version": "1.5.0",
            "value": 1506,
            "_view_count": null,
            "_view_module_version": "1.5.0",
            "orientation": "horizontal",
            "min": 0,
            "description_tooltip": null,
            "_model_module": "@jupyter-widgets/controls",
            "layout": "IPY_MODEL_4963ebba97874dba969537ac07a746ca"
          }
        },
        "e8cc2ee361b6428aaabd38cfee113a8c": {
          "model_module": "@jupyter-widgets/controls",
          "model_name": "HTMLModel",
          "state": {
            "_view_name": "HTMLView",
            "style": "IPY_MODEL_15d2cb5b09bb40d5af37b52ba3c07fae",
            "_dom_classes": [],
            "description": "",
            "_model_name": "HTMLModel",
            "placeholder": "​",
            "_view_module": "@jupyter-widgets/controls",
            "_model_module_version": "1.5.0",
            "value": " 3.45k/? [00:01&lt;00:00, 2.41kB/s]",
            "_view_count": null,
            "_view_module_version": "1.5.0",
            "description_tooltip": null,
            "_model_module": "@jupyter-widgets/controls",
            "layout": "IPY_MODEL_56652dfa90df4e4a8e6b71b96c773971"
          }
        },
        "ba50998b319d416890b237e6473b541b": {
          "model_module": "@jupyter-widgets/controls",
          "model_name": "ProgressStyleModel",
          "state": {
            "_view_name": "StyleView",
            "_model_name": "ProgressStyleModel",
            "description_width": "initial",
            "_view_module": "@jupyter-widgets/base",
            "_model_module_version": "1.5.0",
            "_view_count": null,
            "_view_module_version": "1.2.0",
            "bar_color": null,
            "_model_module": "@jupyter-widgets/controls"
          }
        },
        "4963ebba97874dba969537ac07a746ca": {
          "model_module": "@jupyter-widgets/base",
          "model_name": "LayoutModel",
          "state": {
            "_view_name": "LayoutView",
            "grid_template_rows": null,
            "right": null,
            "justify_content": null,
            "_view_module": "@jupyter-widgets/base",
            "overflow": null,
            "_model_module_version": "1.2.0",
            "_view_count": null,
            "flex_flow": null,
            "width": null,
            "min_width": null,
            "border": null,
            "align_items": null,
            "bottom": null,
            "_model_module": "@jupyter-widgets/base",
            "top": null,
            "grid_column": null,
            "overflow_y": null,
            "overflow_x": null,
            "grid_auto_flow": null,
            "grid_area": null,
            "grid_template_columns": null,
            "flex": null,
            "_model_name": "LayoutModel",
            "justify_items": null,
            "grid_row": null,
            "max_height": null,
            "align_content": null,
            "visibility": null,
            "align_self": null,
            "height": null,
            "min_height": null,
            "padding": null,
            "grid_auto_rows": null,
            "grid_gap": null,
            "max_width": null,
            "order": null,
            "_view_module_version": "1.2.0",
            "grid_template_areas": null,
            "object_position": null,
            "object_fit": null,
            "grid_auto_columns": null,
            "margin": null,
            "display": null,
            "left": null
          }
        },
        "15d2cb5b09bb40d5af37b52ba3c07fae": {
          "model_module": "@jupyter-widgets/controls",
          "model_name": "DescriptionStyleModel",
          "state": {
            "_view_name": "StyleView",
            "_model_name": "DescriptionStyleModel",
            "description_width": "",
            "_view_module": "@jupyter-widgets/base",
            "_model_module_version": "1.5.0",
            "_view_count": null,
            "_view_module_version": "1.2.0",
            "_model_module": "@jupyter-widgets/controls"
          }
        },
        "56652dfa90df4e4a8e6b71b96c773971": {
          "model_module": "@jupyter-widgets/base",
          "model_name": "LayoutModel",
          "state": {
            "_view_name": "LayoutView",
            "grid_template_rows": null,
            "right": null,
            "justify_content": null,
            "_view_module": "@jupyter-widgets/base",
            "overflow": null,
            "_model_module_version": "1.2.0",
            "_view_count": null,
            "flex_flow": null,
            "width": null,
            "min_width": null,
            "border": null,
            "align_items": null,
            "bottom": null,
            "_model_module": "@jupyter-widgets/base",
            "top": null,
            "grid_column": null,
            "overflow_y": null,
            "overflow_x": null,
            "grid_auto_flow": null,
            "grid_area": null,
            "grid_template_columns": null,
            "flex": null,
            "_model_name": "LayoutModel",
            "justify_items": null,
            "grid_row": null,
            "max_height": null,
            "align_content": null,
            "visibility": null,
            "align_self": null,
            "height": null,
            "min_height": null,
            "padding": null,
            "grid_auto_rows": null,
            "grid_gap": null,
            "max_width": null,
            "order": null,
            "_view_module_version": "1.2.0",
            "grid_template_areas": null,
            "object_position": null,
            "object_fit": null,
            "grid_auto_columns": null,
            "margin": null,
            "display": null,
            "left": null
          }
        },
        "443242ac7e3e4f0984d9ed0b41e110e6": {
          "model_module": "@jupyter-widgets/controls",
          "model_name": "HBoxModel",
          "state": {
            "_view_name": "HBoxView",
            "_dom_classes": [],
            "_model_name": "HBoxModel",
            "_view_module": "@jupyter-widgets/controls",
            "_model_module_version": "1.5.0",
            "_view_count": null,
            "_view_module_version": "1.5.0",
            "box_style": "",
            "layout": "IPY_MODEL_a0df1ad32a454ca39b0e7049807dfbb5",
            "_model_module": "@jupyter-widgets/controls",
            "children": [
              "IPY_MODEL_e95a0cda228e47f3bcad8db3e2c1c0e5",
              "IPY_MODEL_733881efeb844fb4892439f152519e32"
            ]
          }
        },
        "a0df1ad32a454ca39b0e7049807dfbb5": {
          "model_module": "@jupyter-widgets/base",
          "model_name": "LayoutModel",
          "state": {
            "_view_name": "LayoutView",
            "grid_template_rows": null,
            "right": null,
            "justify_content": null,
            "_view_module": "@jupyter-widgets/base",
            "overflow": null,
            "_model_module_version": "1.2.0",
            "_view_count": null,
            "flex_flow": null,
            "width": null,
            "min_width": null,
            "border": null,
            "align_items": null,
            "bottom": null,
            "_model_module": "@jupyter-widgets/base",
            "top": null,
            "grid_column": null,
            "overflow_y": null,
            "overflow_x": null,
            "grid_auto_flow": null,
            "grid_area": null,
            "grid_template_columns": null,
            "flex": null,
            "_model_name": "LayoutModel",
            "justify_items": null,
            "grid_row": null,
            "max_height": null,
            "align_content": null,
            "visibility": null,
            "align_self": null,
            "height": null,
            "min_height": null,
            "padding": null,
            "grid_auto_rows": null,
            "grid_gap": null,
            "max_width": null,
            "order": null,
            "_view_module_version": "1.2.0",
            "grid_template_areas": null,
            "object_position": null,
            "object_fit": null,
            "grid_auto_columns": null,
            "margin": null,
            "display": null,
            "left": null
          }
        },
        "e95a0cda228e47f3bcad8db3e2c1c0e5": {
          "model_module": "@jupyter-widgets/controls",
          "model_name": "FloatProgressModel",
          "state": {
            "_view_name": "ProgressView",
            "style": "IPY_MODEL_3f5488927a964bf2b241e17713360a0d",
            "_dom_classes": [],
            "description": "Downloading: ",
            "_model_name": "FloatProgressModel",
            "bar_style": "success",
            "max": 884,
            "_view_module": "@jupyter-widgets/controls",
            "_model_module_version": "1.5.0",
            "value": 884,
            "_view_count": null,
            "_view_module_version": "1.5.0",
            "orientation": "horizontal",
            "min": 0,
            "description_tooltip": null,
            "_model_module": "@jupyter-widgets/controls",
            "layout": "IPY_MODEL_b22913120d84400c809a7d1d295e21e5"
          }
        },
        "733881efeb844fb4892439f152519e32": {
          "model_module": "@jupyter-widgets/controls",
          "model_name": "HTMLModel",
          "state": {
            "_view_name": "HTMLView",
            "style": "IPY_MODEL_7a08e0b3ec7b4f1b8089a209724f37b3",
            "_dom_classes": [],
            "description": "",
            "_model_name": "HTMLModel",
            "placeholder": "​",
            "_view_module": "@jupyter-widgets/controls",
            "_model_module_version": "1.5.0",
            "value": " 1.89k/? [00:01&lt;00:00, 1.61kB/s]",
            "_view_count": null,
            "_view_module_version": "1.5.0",
            "description_tooltip": null,
            "_model_module": "@jupyter-widgets/controls",
            "layout": "IPY_MODEL_688e8df1745d45a9916a2c69451c40ac"
          }
        },
        "3f5488927a964bf2b241e17713360a0d": {
          "model_module": "@jupyter-widgets/controls",
          "model_name": "ProgressStyleModel",
          "state": {
            "_view_name": "StyleView",
            "_model_name": "ProgressStyleModel",
            "description_width": "initial",
            "_view_module": "@jupyter-widgets/base",
            "_model_module_version": "1.5.0",
            "_view_count": null,
            "_view_module_version": "1.2.0",
            "bar_color": null,
            "_model_module": "@jupyter-widgets/controls"
          }
        },
        "b22913120d84400c809a7d1d295e21e5": {
          "model_module": "@jupyter-widgets/base",
          "model_name": "LayoutModel",
          "state": {
            "_view_name": "LayoutView",
            "grid_template_rows": null,
            "right": null,
            "justify_content": null,
            "_view_module": "@jupyter-widgets/base",
            "overflow": null,
            "_model_module_version": "1.2.0",
            "_view_count": null,
            "flex_flow": null,
            "width": null,
            "min_width": null,
            "border": null,
            "align_items": null,
            "bottom": null,
            "_model_module": "@jupyter-widgets/base",
            "top": null,
            "grid_column": null,
            "overflow_y": null,
            "overflow_x": null,
            "grid_auto_flow": null,
            "grid_area": null,
            "grid_template_columns": null,
            "flex": null,
            "_model_name": "LayoutModel",
            "justify_items": null,
            "grid_row": null,
            "max_height": null,
            "align_content": null,
            "visibility": null,
            "align_self": null,
            "height": null,
            "min_height": null,
            "padding": null,
            "grid_auto_rows": null,
            "grid_gap": null,
            "max_width": null,
            "order": null,
            "_view_module_version": "1.2.0",
            "grid_template_areas": null,
            "object_position": null,
            "object_fit": null,
            "grid_auto_columns": null,
            "margin": null,
            "display": null,
            "left": null
          }
        },
        "7a08e0b3ec7b4f1b8089a209724f37b3": {
          "model_module": "@jupyter-widgets/controls",
          "model_name": "DescriptionStyleModel",
          "state": {
            "_view_name": "StyleView",
            "_model_name": "DescriptionStyleModel",
            "description_width": "",
            "_view_module": "@jupyter-widgets/base",
            "_model_module_version": "1.5.0",
            "_view_count": null,
            "_view_module_version": "1.2.0",
            "_model_module": "@jupyter-widgets/controls"
          }
        },
        "688e8df1745d45a9916a2c69451c40ac": {
          "model_module": "@jupyter-widgets/base",
          "model_name": "LayoutModel",
          "state": {
            "_view_name": "LayoutView",
            "grid_template_rows": null,
            "right": null,
            "justify_content": null,
            "_view_module": "@jupyter-widgets/base",
            "overflow": null,
            "_model_module_version": "1.2.0",
            "_view_count": null,
            "flex_flow": null,
            "width": null,
            "min_width": null,
            "border": null,
            "align_items": null,
            "bottom": null,
            "_model_module": "@jupyter-widgets/base",
            "top": null,
            "grid_column": null,
            "overflow_y": null,
            "overflow_x": null,
            "grid_auto_flow": null,
            "grid_area": null,
            "grid_template_columns": null,
            "flex": null,
            "_model_name": "LayoutModel",
            "justify_items": null,
            "grid_row": null,
            "max_height": null,
            "align_content": null,
            "visibility": null,
            "align_self": null,
            "height": null,
            "min_height": null,
            "padding": null,
            "grid_auto_rows": null,
            "grid_gap": null,
            "max_width": null,
            "order": null,
            "_view_module_version": "1.2.0",
            "grid_template_areas": null,
            "object_position": null,
            "object_fit": null,
            "grid_auto_columns": null,
            "margin": null,
            "display": null,
            "left": null
          }
        },
        "7e30cc842dff4dd4b754a886bf7afeeb": {
          "model_module": "@jupyter-widgets/controls",
          "model_name": "HBoxModel",
          "state": {
            "_view_name": "HBoxView",
            "_dom_classes": [],
            "_model_name": "HBoxModel",
            "_view_module": "@jupyter-widgets/controls",
            "_model_module_version": "1.5.0",
            "_view_count": null,
            "_view_module_version": "1.5.0",
            "box_style": "",
            "layout": "IPY_MODEL_1ee4a8e8932048b0b25727eba9ba86b4",
            "_model_module": "@jupyter-widgets/controls",
            "children": [
              "IPY_MODEL_a2a30156e9ad423c8b985c2a2c1f4db0",
              "IPY_MODEL_d5e25a75d6bb42ef915cd0c796a7bbff"
            ]
          }
        },
        "1ee4a8e8932048b0b25727eba9ba86b4": {
          "model_module": "@jupyter-widgets/base",
          "model_name": "LayoutModel",
          "state": {
            "_view_name": "LayoutView",
            "grid_template_rows": null,
            "right": null,
            "justify_content": null,
            "_view_module": "@jupyter-widgets/base",
            "overflow": null,
            "_model_module_version": "1.2.0",
            "_view_count": null,
            "flex_flow": null,
            "width": null,
            "min_width": null,
            "border": null,
            "align_items": null,
            "bottom": null,
            "_model_module": "@jupyter-widgets/base",
            "top": null,
            "grid_column": null,
            "overflow_y": null,
            "overflow_x": null,
            "grid_auto_flow": null,
            "grid_area": null,
            "grid_template_columns": null,
            "flex": null,
            "_model_name": "LayoutModel",
            "justify_items": null,
            "grid_row": null,
            "max_height": null,
            "align_content": null,
            "visibility": null,
            "align_self": null,
            "height": null,
            "min_height": null,
            "padding": null,
            "grid_auto_rows": null,
            "grid_gap": null,
            "max_width": null,
            "order": null,
            "_view_module_version": "1.2.0",
            "grid_template_areas": null,
            "object_position": null,
            "object_fit": null,
            "grid_auto_columns": null,
            "margin": null,
            "display": null,
            "left": null
          }
        },
        "a2a30156e9ad423c8b985c2a2c1f4db0": {
          "model_module": "@jupyter-widgets/controls",
          "model_name": "FloatProgressModel",
          "state": {
            "_view_name": "ProgressView",
            "style": "IPY_MODEL_703c98403a6f44418bc6a0db9ce02024",
            "_dom_classes": [],
            "description": "Downloading: ",
            "_model_name": "FloatProgressModel",
            "bar_style": "success",
            "max": 1,
            "_view_module": "@jupyter-widgets/controls",
            "_model_module_version": "1.5.0",
            "value": 1,
            "_view_count": null,
            "_view_module_version": "1.5.0",
            "orientation": "horizontal",
            "min": 0,
            "description_tooltip": null,
            "_model_module": "@jupyter-widgets/controls",
            "layout": "IPY_MODEL_33b2bcc537dc432e90e10c091bd57bd8"
          }
        },
        "d5e25a75d6bb42ef915cd0c796a7bbff": {
          "model_module": "@jupyter-widgets/controls",
          "model_name": "HTMLModel",
          "state": {
            "_view_name": "HTMLView",
            "style": "IPY_MODEL_0a3af4abfa344dea8298954adba1e537",
            "_dom_classes": [],
            "description": "",
            "_model_name": "HTMLModel",
            "placeholder": "​",
            "_view_module": "@jupyter-widgets/controls",
            "_model_module_version": "1.5.0",
            "value": " 319M/? [00:11&lt;00:00, 27.1MB/s]",
            "_view_count": null,
            "_view_module_version": "1.5.0",
            "description_tooltip": null,
            "_model_module": "@jupyter-widgets/controls",
            "layout": "IPY_MODEL_1d4b3adf94764f25bcb214393b7c4362"
          }
        },
        "703c98403a6f44418bc6a0db9ce02024": {
          "model_module": "@jupyter-widgets/controls",
          "model_name": "ProgressStyleModel",
          "state": {
            "_view_name": "StyleView",
            "_model_name": "ProgressStyleModel",
            "description_width": "initial",
            "_view_module": "@jupyter-widgets/base",
            "_model_module_version": "1.5.0",
            "_view_count": null,
            "_view_module_version": "1.2.0",
            "bar_color": null,
            "_model_module": "@jupyter-widgets/controls"
          }
        },
        "33b2bcc537dc432e90e10c091bd57bd8": {
          "model_module": "@jupyter-widgets/base",
          "model_name": "LayoutModel",
          "state": {
            "_view_name": "LayoutView",
            "grid_template_rows": null,
            "right": null,
            "justify_content": null,
            "_view_module": "@jupyter-widgets/base",
            "overflow": null,
            "_model_module_version": "1.2.0",
            "_view_count": null,
            "flex_flow": null,
            "width": null,
            "min_width": null,
            "border": null,
            "align_items": null,
            "bottom": null,
            "_model_module": "@jupyter-widgets/base",
            "top": null,
            "grid_column": null,
            "overflow_y": null,
            "overflow_x": null,
            "grid_auto_flow": null,
            "grid_area": null,
            "grid_template_columns": null,
            "flex": null,
            "_model_name": "LayoutModel",
            "justify_items": null,
            "grid_row": null,
            "max_height": null,
            "align_content": null,
            "visibility": null,
            "align_self": null,
            "height": null,
            "min_height": null,
            "padding": null,
            "grid_auto_rows": null,
            "grid_gap": null,
            "max_width": null,
            "order": null,
            "_view_module_version": "1.2.0",
            "grid_template_areas": null,
            "object_position": null,
            "object_fit": null,
            "grid_auto_columns": null,
            "margin": null,
            "display": null,
            "left": null
          }
        },
        "0a3af4abfa344dea8298954adba1e537": {
          "model_module": "@jupyter-widgets/controls",
          "model_name": "DescriptionStyleModel",
          "state": {
            "_view_name": "StyleView",
            "_model_name": "DescriptionStyleModel",
            "description_width": "",
            "_view_module": "@jupyter-widgets/base",
            "_model_module_version": "1.5.0",
            "_view_count": null,
            "_view_module_version": "1.2.0",
            "_model_module": "@jupyter-widgets/controls"
          }
        },
        "1d4b3adf94764f25bcb214393b7c4362": {
          "model_module": "@jupyter-widgets/base",
          "model_name": "LayoutModel",
          "state": {
            "_view_name": "LayoutView",
            "grid_template_rows": null,
            "right": null,
            "justify_content": null,
            "_view_module": "@jupyter-widgets/base",
            "overflow": null,
            "_model_module_version": "1.2.0",
            "_view_count": null,
            "flex_flow": null,
            "width": null,
            "min_width": null,
            "border": null,
            "align_items": null,
            "bottom": null,
            "_model_module": "@jupyter-widgets/base",
            "top": null,
            "grid_column": null,
            "overflow_y": null,
            "overflow_x": null,
            "grid_auto_flow": null,
            "grid_area": null,
            "grid_template_columns": null,
            "flex": null,
            "_model_name": "LayoutModel",
            "justify_items": null,
            "grid_row": null,
            "max_height": null,
            "align_content": null,
            "visibility": null,
            "align_self": null,
            "height": null,
            "min_height": null,
            "padding": null,
            "grid_auto_rows": null,
            "grid_gap": null,
            "max_width": null,
            "order": null,
            "_view_module_version": "1.2.0",
            "grid_template_areas": null,
            "object_position": null,
            "object_fit": null,
            "grid_auto_columns": null,
            "margin": null,
            "display": null,
            "left": null
          }
        },
        "348f21631564466397d636df624a0624": {
          "model_module": "@jupyter-widgets/controls",
          "model_name": "HBoxModel",
          "state": {
            "_view_name": "HBoxView",
            "_dom_classes": [],
            "_model_name": "HBoxModel",
            "_view_module": "@jupyter-widgets/controls",
            "_model_module_version": "1.5.0",
            "_view_count": null,
            "_view_module_version": "1.5.0",
            "box_style": "",
            "layout": "IPY_MODEL_9ac251efec064d01b63d4697aa5eb5d4",
            "_model_module": "@jupyter-widgets/controls",
            "children": [
              "IPY_MODEL_7f83f9db8fcf4340ac07a8425d8465f9",
              "IPY_MODEL_3ac4793561fd4ad6940ff9ba618a4cf1"
            ]
          }
        },
        "9ac251efec064d01b63d4697aa5eb5d4": {
          "model_module": "@jupyter-widgets/base",
          "model_name": "LayoutModel",
          "state": {
            "_view_name": "LayoutView",
            "grid_template_rows": null,
            "right": null,
            "justify_content": null,
            "_view_module": "@jupyter-widgets/base",
            "overflow": null,
            "_model_module_version": "1.2.0",
            "_view_count": null,
            "flex_flow": null,
            "width": null,
            "min_width": null,
            "border": null,
            "align_items": null,
            "bottom": null,
            "_model_module": "@jupyter-widgets/base",
            "top": null,
            "grid_column": null,
            "overflow_y": null,
            "overflow_x": null,
            "grid_auto_flow": null,
            "grid_area": null,
            "grid_template_columns": null,
            "flex": null,
            "_model_name": "LayoutModel",
            "justify_items": null,
            "grid_row": null,
            "max_height": null,
            "align_content": null,
            "visibility": null,
            "align_self": null,
            "height": null,
            "min_height": null,
            "padding": null,
            "grid_auto_rows": null,
            "grid_gap": null,
            "max_width": null,
            "order": null,
            "_view_module_version": "1.2.0",
            "grid_template_areas": null,
            "object_position": null,
            "object_fit": null,
            "grid_auto_columns": null,
            "margin": null,
            "display": null,
            "left": null
          }
        },
        "7f83f9db8fcf4340ac07a8425d8465f9": {
          "model_module": "@jupyter-widgets/controls",
          "model_name": "FloatProgressModel",
          "state": {
            "_view_name": "ProgressView",
            "style": "IPY_MODEL_769e93524ddb49839954f59efd97c975",
            "_dom_classes": [],
            "description": "",
            "_model_name": "FloatProgressModel",
            "bar_style": "info",
            "max": 1,
            "_view_module": "@jupyter-widgets/controls",
            "_model_module_version": "1.5.0",
            "value": 1,
            "_view_count": null,
            "_view_module_version": "1.5.0",
            "orientation": "horizontal",
            "min": 0,
            "description_tooltip": null,
            "_model_module": "@jupyter-widgets/controls",
            "layout": "IPY_MODEL_470553f140cc40b5b7c2cb7355c43300"
          }
        },
        "3ac4793561fd4ad6940ff9ba618a4cf1": {
          "model_module": "@jupyter-widgets/controls",
          "model_name": "HTMLModel",
          "state": {
            "_view_name": "HTMLView",
            "style": "IPY_MODEL_0eb7cae0ce3045d59213c5d6887390af",
            "_dom_classes": [],
            "description": "",
            "_model_name": "HTMLModel",
            "placeholder": "​",
            "_view_module": "@jupyter-widgets/controls",
            "_model_module_version": "1.5.0",
            "value": " 1400000/0 [00:58&lt;00:00, 26041.55 examples/s]",
            "_view_count": null,
            "_view_module_version": "1.5.0",
            "description_tooltip": null,
            "_model_module": "@jupyter-widgets/controls",
            "layout": "IPY_MODEL_4e16f53c0e154c1c97e7d6417927ea51"
          }
        },
        "769e93524ddb49839954f59efd97c975": {
          "model_module": "@jupyter-widgets/controls",
          "model_name": "ProgressStyleModel",
          "state": {
            "_view_name": "StyleView",
            "_model_name": "ProgressStyleModel",
            "description_width": "initial",
            "_view_module": "@jupyter-widgets/base",
            "_model_module_version": "1.5.0",
            "_view_count": null,
            "_view_module_version": "1.2.0",
            "bar_color": null,
            "_model_module": "@jupyter-widgets/controls"
          }
        },
        "470553f140cc40b5b7c2cb7355c43300": {
          "model_module": "@jupyter-widgets/base",
          "model_name": "LayoutModel",
          "state": {
            "_view_name": "LayoutView",
            "grid_template_rows": null,
            "right": null,
            "justify_content": null,
            "_view_module": "@jupyter-widgets/base",
            "overflow": null,
            "_model_module_version": "1.2.0",
            "_view_count": null,
            "flex_flow": null,
            "width": null,
            "min_width": null,
            "border": null,
            "align_items": null,
            "bottom": null,
            "_model_module": "@jupyter-widgets/base",
            "top": null,
            "grid_column": null,
            "overflow_y": null,
            "overflow_x": null,
            "grid_auto_flow": null,
            "grid_area": null,
            "grid_template_columns": null,
            "flex": null,
            "_model_name": "LayoutModel",
            "justify_items": null,
            "grid_row": null,
            "max_height": null,
            "align_content": null,
            "visibility": null,
            "align_self": null,
            "height": null,
            "min_height": null,
            "padding": null,
            "grid_auto_rows": null,
            "grid_gap": null,
            "max_width": null,
            "order": null,
            "_view_module_version": "1.2.0",
            "grid_template_areas": null,
            "object_position": null,
            "object_fit": null,
            "grid_auto_columns": null,
            "margin": null,
            "display": null,
            "left": null
          }
        },
        "0eb7cae0ce3045d59213c5d6887390af": {
          "model_module": "@jupyter-widgets/controls",
          "model_name": "DescriptionStyleModel",
          "state": {
            "_view_name": "StyleView",
            "_model_name": "DescriptionStyleModel",
            "description_width": "",
            "_view_module": "@jupyter-widgets/base",
            "_model_module_version": "1.5.0",
            "_view_count": null,
            "_view_module_version": "1.2.0",
            "_model_module": "@jupyter-widgets/controls"
          }
        },
        "4e16f53c0e154c1c97e7d6417927ea51": {
          "model_module": "@jupyter-widgets/base",
          "model_name": "LayoutModel",
          "state": {
            "_view_name": "LayoutView",
            "grid_template_rows": null,
            "right": null,
            "justify_content": null,
            "_view_module": "@jupyter-widgets/base",
            "overflow": null,
            "_model_module_version": "1.2.0",
            "_view_count": null,
            "flex_flow": null,
            "width": null,
            "min_width": null,
            "border": null,
            "align_items": null,
            "bottom": null,
            "_model_module": "@jupyter-widgets/base",
            "top": null,
            "grid_column": null,
            "overflow_y": null,
            "overflow_x": null,
            "grid_auto_flow": null,
            "grid_area": null,
            "grid_template_columns": null,
            "flex": null,
            "_model_name": "LayoutModel",
            "justify_items": null,
            "grid_row": null,
            "max_height": null,
            "align_content": null,
            "visibility": null,
            "align_self": null,
            "height": null,
            "min_height": null,
            "padding": null,
            "grid_auto_rows": null,
            "grid_gap": null,
            "max_width": null,
            "order": null,
            "_view_module_version": "1.2.0",
            "grid_template_areas": null,
            "object_position": null,
            "object_fit": null,
            "grid_auto_columns": null,
            "margin": null,
            "display": null,
            "left": null
          }
        },
        "2293c2f69d80484eaab28eb173be9971": {
          "model_module": "@jupyter-widgets/controls",
          "model_name": "HBoxModel",
          "state": {
            "_view_name": "HBoxView",
            "_dom_classes": [],
            "_model_name": "HBoxModel",
            "_view_module": "@jupyter-widgets/controls",
            "_model_module_version": "1.5.0",
            "_view_count": null,
            "_view_module_version": "1.5.0",
            "box_style": "",
            "layout": "IPY_MODEL_960f10505d0c4f708705cf0068e4c43e",
            "_model_module": "@jupyter-widgets/controls",
            "children": [
              "IPY_MODEL_d476780e54ee4aa59cf7e13538c7a624",
              "IPY_MODEL_c3980858bc3645f8bf1e3370a3de198d"
            ]
          }
        },
        "960f10505d0c4f708705cf0068e4c43e": {
          "model_module": "@jupyter-widgets/base",
          "model_name": "LayoutModel",
          "state": {
            "_view_name": "LayoutView",
            "grid_template_rows": null,
            "right": null,
            "justify_content": null,
            "_view_module": "@jupyter-widgets/base",
            "overflow": null,
            "_model_module_version": "1.2.0",
            "_view_count": null,
            "flex_flow": null,
            "width": null,
            "min_width": null,
            "border": null,
            "align_items": null,
            "bottom": null,
            "_model_module": "@jupyter-widgets/base",
            "top": null,
            "grid_column": null,
            "overflow_y": null,
            "overflow_x": null,
            "grid_auto_flow": null,
            "grid_area": null,
            "grid_template_columns": null,
            "flex": null,
            "_model_name": "LayoutModel",
            "justify_items": null,
            "grid_row": null,
            "max_height": null,
            "align_content": null,
            "visibility": null,
            "align_self": null,
            "height": null,
            "min_height": null,
            "padding": null,
            "grid_auto_rows": null,
            "grid_gap": null,
            "max_width": null,
            "order": null,
            "_view_module_version": "1.2.0",
            "grid_template_areas": null,
            "object_position": null,
            "object_fit": null,
            "grid_auto_columns": null,
            "margin": null,
            "display": null,
            "left": null
          }
        },
        "d476780e54ee4aa59cf7e13538c7a624": {
          "model_module": "@jupyter-widgets/controls",
          "model_name": "FloatProgressModel",
          "state": {
            "_view_name": "ProgressView",
            "style": "IPY_MODEL_9d29d1764989480cb54299cf489066b1",
            "_dom_classes": [],
            "description": "",
            "_model_name": "FloatProgressModel",
            "bar_style": "info",
            "max": 1,
            "_view_module": "@jupyter-widgets/controls",
            "_model_module_version": "1.5.0",
            "value": 1,
            "_view_count": null,
            "_view_module_version": "1.5.0",
            "orientation": "horizontal",
            "min": 0,
            "description_tooltip": null,
            "_model_module": "@jupyter-widgets/controls",
            "layout": "IPY_MODEL_a9a94a65c9324be4a95e4166856dda00"
          }
        },
        "c3980858bc3645f8bf1e3370a3de198d": {
          "model_module": "@jupyter-widgets/controls",
          "model_name": "HTMLModel",
          "state": {
            "_view_name": "HTMLView",
            "style": "IPY_MODEL_f38e09ab99dd4076a0b5ed6494c2f937",
            "_dom_classes": [],
            "description": "",
            "_model_name": "HTMLModel",
            "placeholder": "​",
            "_view_module": "@jupyter-widgets/controls",
            "_model_module_version": "1.5.0",
            "value": " 60000/0 [00:02&lt;00:00, 25538.19 examples/s]",
            "_view_count": null,
            "_view_module_version": "1.5.0",
            "description_tooltip": null,
            "_model_module": "@jupyter-widgets/controls",
            "layout": "IPY_MODEL_c83415ba65a0457a9a8ef389762b695d"
          }
        },
        "9d29d1764989480cb54299cf489066b1": {
          "model_module": "@jupyter-widgets/controls",
          "model_name": "ProgressStyleModel",
          "state": {
            "_view_name": "StyleView",
            "_model_name": "ProgressStyleModel",
            "description_width": "initial",
            "_view_module": "@jupyter-widgets/base",
            "_model_module_version": "1.5.0",
            "_view_count": null,
            "_view_module_version": "1.2.0",
            "bar_color": null,
            "_model_module": "@jupyter-widgets/controls"
          }
        },
        "a9a94a65c9324be4a95e4166856dda00": {
          "model_module": "@jupyter-widgets/base",
          "model_name": "LayoutModel",
          "state": {
            "_view_name": "LayoutView",
            "grid_template_rows": null,
            "right": null,
            "justify_content": null,
            "_view_module": "@jupyter-widgets/base",
            "overflow": null,
            "_model_module_version": "1.2.0",
            "_view_count": null,
            "flex_flow": null,
            "width": null,
            "min_width": null,
            "border": null,
            "align_items": null,
            "bottom": null,
            "_model_module": "@jupyter-widgets/base",
            "top": null,
            "grid_column": null,
            "overflow_y": null,
            "overflow_x": null,
            "grid_auto_flow": null,
            "grid_area": null,
            "grid_template_columns": null,
            "flex": null,
            "_model_name": "LayoutModel",
            "justify_items": null,
            "grid_row": null,
            "max_height": null,
            "align_content": null,
            "visibility": null,
            "align_self": null,
            "height": null,
            "min_height": null,
            "padding": null,
            "grid_auto_rows": null,
            "grid_gap": null,
            "max_width": null,
            "order": null,
            "_view_module_version": "1.2.0",
            "grid_template_areas": null,
            "object_position": null,
            "object_fit": null,
            "grid_auto_columns": null,
            "margin": null,
            "display": null,
            "left": null
          }
        },
        "f38e09ab99dd4076a0b5ed6494c2f937": {
          "model_module": "@jupyter-widgets/controls",
          "model_name": "DescriptionStyleModel",
          "state": {
            "_view_name": "StyleView",
            "_model_name": "DescriptionStyleModel",
            "description_width": "",
            "_view_module": "@jupyter-widgets/base",
            "_model_module_version": "1.5.0",
            "_view_count": null,
            "_view_module_version": "1.2.0",
            "_model_module": "@jupyter-widgets/controls"
          }
        },
        "c83415ba65a0457a9a8ef389762b695d": {
          "model_module": "@jupyter-widgets/base",
          "model_name": "LayoutModel",
          "state": {
            "_view_name": "LayoutView",
            "grid_template_rows": null,
            "right": null,
            "justify_content": null,
            "_view_module": "@jupyter-widgets/base",
            "overflow": null,
            "_model_module_version": "1.2.0",
            "_view_count": null,
            "flex_flow": null,
            "width": null,
            "min_width": null,
            "border": null,
            "align_items": null,
            "bottom": null,
            "_model_module": "@jupyter-widgets/base",
            "top": null,
            "grid_column": null,
            "overflow_y": null,
            "overflow_x": null,
            "grid_auto_flow": null,
            "grid_area": null,
            "grid_template_columns": null,
            "flex": null,
            "_model_name": "LayoutModel",
            "justify_items": null,
            "grid_row": null,
            "max_height": null,
            "align_content": null,
            "visibility": null,
            "align_self": null,
            "height": null,
            "min_height": null,
            "padding": null,
            "grid_auto_rows": null,
            "grid_gap": null,
            "max_width": null,
            "order": null,
            "_view_module_version": "1.2.0",
            "grid_template_areas": null,
            "object_position": null,
            "object_fit": null,
            "grid_auto_columns": null,
            "margin": null,
            "display": null,
            "left": null
          }
        },
        "db4bd34c8cf04d1b96a59afb2ba81c77": {
          "model_module": "@jupyter-widgets/controls",
          "model_name": "HBoxModel",
          "state": {
            "_view_name": "HBoxView",
            "_dom_classes": [],
            "_model_name": "HBoxModel",
            "_view_module": "@jupyter-widgets/controls",
            "_model_module_version": "1.5.0",
            "_view_count": null,
            "_view_module_version": "1.5.0",
            "box_style": "",
            "layout": "IPY_MODEL_6440e101792d43e5819cf7b5441227d8",
            "_model_module": "@jupyter-widgets/controls",
            "children": [
              "IPY_MODEL_51be7ab49aae490eac8255dbe94d3cc3",
              "IPY_MODEL_79778cf3316b4d738329dc55133d301c"
            ]
          }
        },
        "6440e101792d43e5819cf7b5441227d8": {
          "model_module": "@jupyter-widgets/base",
          "model_name": "LayoutModel",
          "state": {
            "_view_name": "LayoutView",
            "grid_template_rows": null,
            "right": null,
            "justify_content": null,
            "_view_module": "@jupyter-widgets/base",
            "overflow": null,
            "_model_module_version": "1.2.0",
            "_view_count": null,
            "flex_flow": null,
            "width": null,
            "min_width": null,
            "border": null,
            "align_items": null,
            "bottom": null,
            "_model_module": "@jupyter-widgets/base",
            "top": null,
            "grid_column": null,
            "overflow_y": null,
            "overflow_x": null,
            "grid_auto_flow": null,
            "grid_area": null,
            "grid_template_columns": null,
            "flex": null,
            "_model_name": "LayoutModel",
            "justify_items": null,
            "grid_row": null,
            "max_height": null,
            "align_content": null,
            "visibility": null,
            "align_self": null,
            "height": null,
            "min_height": null,
            "padding": null,
            "grid_auto_rows": null,
            "grid_gap": null,
            "max_width": null,
            "order": null,
            "_view_module_version": "1.2.0",
            "grid_template_areas": null,
            "object_position": null,
            "object_fit": null,
            "grid_auto_columns": null,
            "margin": null,
            "display": null,
            "left": null
          }
        },
        "51be7ab49aae490eac8255dbe94d3cc3": {
          "model_module": "@jupyter-widgets/controls",
          "model_name": "FloatProgressModel",
          "state": {
            "_view_name": "ProgressView",
            "style": "IPY_MODEL_f5073481776440c5a0acf47feb09b920",
            "_dom_classes": [],
            "description": "Downloading: 100%",
            "_model_name": "FloatProgressModel",
            "bar_style": "success",
            "max": 442,
            "_view_module": "@jupyter-widgets/controls",
            "_model_module_version": "1.5.0",
            "value": 442,
            "_view_count": null,
            "_view_module_version": "1.5.0",
            "orientation": "horizontal",
            "min": 0,
            "description_tooltip": null,
            "_model_module": "@jupyter-widgets/controls",
            "layout": "IPY_MODEL_240495e490594fd883cf8a656140a601"
          }
        },
        "79778cf3316b4d738329dc55133d301c": {
          "model_module": "@jupyter-widgets/controls",
          "model_name": "HTMLModel",
          "state": {
            "_view_name": "HTMLView",
            "style": "IPY_MODEL_66b331be48fb49b6bfbab956977350eb",
            "_dom_classes": [],
            "description": "",
            "_model_name": "HTMLModel",
            "placeholder": "​",
            "_view_module": "@jupyter-widgets/controls",
            "_model_module_version": "1.5.0",
            "value": " 442/442 [00:00&lt;00:00, 668B/s]",
            "_view_count": null,
            "_view_module_version": "1.5.0",
            "description_tooltip": null,
            "_model_module": "@jupyter-widgets/controls",
            "layout": "IPY_MODEL_468fcc8c5a6744b5aac53f914797835e"
          }
        },
        "f5073481776440c5a0acf47feb09b920": {
          "model_module": "@jupyter-widgets/controls",
          "model_name": "ProgressStyleModel",
          "state": {
            "_view_name": "StyleView",
            "_model_name": "ProgressStyleModel",
            "description_width": "initial",
            "_view_module": "@jupyter-widgets/base",
            "_model_module_version": "1.5.0",
            "_view_count": null,
            "_view_module_version": "1.2.0",
            "bar_color": null,
            "_model_module": "@jupyter-widgets/controls"
          }
        },
        "240495e490594fd883cf8a656140a601": {
          "model_module": "@jupyter-widgets/base",
          "model_name": "LayoutModel",
          "state": {
            "_view_name": "LayoutView",
            "grid_template_rows": null,
            "right": null,
            "justify_content": null,
            "_view_module": "@jupyter-widgets/base",
            "overflow": null,
            "_model_module_version": "1.2.0",
            "_view_count": null,
            "flex_flow": null,
            "width": null,
            "min_width": null,
            "border": null,
            "align_items": null,
            "bottom": null,
            "_model_module": "@jupyter-widgets/base",
            "top": null,
            "grid_column": null,
            "overflow_y": null,
            "overflow_x": null,
            "grid_auto_flow": null,
            "grid_area": null,
            "grid_template_columns": null,
            "flex": null,
            "_model_name": "LayoutModel",
            "justify_items": null,
            "grid_row": null,
            "max_height": null,
            "align_content": null,
            "visibility": null,
            "align_self": null,
            "height": null,
            "min_height": null,
            "padding": null,
            "grid_auto_rows": null,
            "grid_gap": null,
            "max_width": null,
            "order": null,
            "_view_module_version": "1.2.0",
            "grid_template_areas": null,
            "object_position": null,
            "object_fit": null,
            "grid_auto_columns": null,
            "margin": null,
            "display": null,
            "left": null
          }
        },
        "66b331be48fb49b6bfbab956977350eb": {
          "model_module": "@jupyter-widgets/controls",
          "model_name": "DescriptionStyleModel",
          "state": {
            "_view_name": "StyleView",
            "_model_name": "DescriptionStyleModel",
            "description_width": "",
            "_view_module": "@jupyter-widgets/base",
            "_model_module_version": "1.5.0",
            "_view_count": null,
            "_view_module_version": "1.2.0",
            "_model_module": "@jupyter-widgets/controls"
          }
        },
        "468fcc8c5a6744b5aac53f914797835e": {
          "model_module": "@jupyter-widgets/base",
          "model_name": "LayoutModel",
          "state": {
            "_view_name": "LayoutView",
            "grid_template_rows": null,
            "right": null,
            "justify_content": null,
            "_view_module": "@jupyter-widgets/base",
            "overflow": null,
            "_model_module_version": "1.2.0",
            "_view_count": null,
            "flex_flow": null,
            "width": null,
            "min_width": null,
            "border": null,
            "align_items": null,
            "bottom": null,
            "_model_module": "@jupyter-widgets/base",
            "top": null,
            "grid_column": null,
            "overflow_y": null,
            "overflow_x": null,
            "grid_auto_flow": null,
            "grid_area": null,
            "grid_template_columns": null,
            "flex": null,
            "_model_name": "LayoutModel",
            "justify_items": null,
            "grid_row": null,
            "max_height": null,
            "align_content": null,
            "visibility": null,
            "align_self": null,
            "height": null,
            "min_height": null,
            "padding": null,
            "grid_auto_rows": null,
            "grid_gap": null,
            "max_width": null,
            "order": null,
            "_view_module_version": "1.2.0",
            "grid_template_areas": null,
            "object_position": null,
            "object_fit": null,
            "grid_auto_columns": null,
            "margin": null,
            "display": null,
            "left": null
          }
        },
        "99c93d0bd1c04f94bd34cee7f1a0c69d": {
          "model_module": "@jupyter-widgets/controls",
          "model_name": "HBoxModel",
          "state": {
            "_view_name": "HBoxView",
            "_dom_classes": [],
            "_model_name": "HBoxModel",
            "_view_module": "@jupyter-widgets/controls",
            "_model_module_version": "1.5.0",
            "_view_count": null,
            "_view_module_version": "1.5.0",
            "box_style": "",
            "layout": "IPY_MODEL_6e9219a7b6214ec4a2049e63a90a03d3",
            "_model_module": "@jupyter-widgets/controls",
            "children": [
              "IPY_MODEL_69b0fc9066d8457dab158eb23c3dd266",
              "IPY_MODEL_510d076b31e24c0d848221cddb55fc61"
            ]
          }
        },
        "6e9219a7b6214ec4a2049e63a90a03d3": {
          "model_module": "@jupyter-widgets/base",
          "model_name": "LayoutModel",
          "state": {
            "_view_name": "LayoutView",
            "grid_template_rows": null,
            "right": null,
            "justify_content": null,
            "_view_module": "@jupyter-widgets/base",
            "overflow": null,
            "_model_module_version": "1.2.0",
            "_view_count": null,
            "flex_flow": null,
            "width": null,
            "min_width": null,
            "border": null,
            "align_items": null,
            "bottom": null,
            "_model_module": "@jupyter-widgets/base",
            "top": null,
            "grid_column": null,
            "overflow_y": null,
            "overflow_x": null,
            "grid_auto_flow": null,
            "grid_area": null,
            "grid_template_columns": null,
            "flex": null,
            "_model_name": "LayoutModel",
            "justify_items": null,
            "grid_row": null,
            "max_height": null,
            "align_content": null,
            "visibility": null,
            "align_self": null,
            "height": null,
            "min_height": null,
            "padding": null,
            "grid_auto_rows": null,
            "grid_gap": null,
            "max_width": null,
            "order": null,
            "_view_module_version": "1.2.0",
            "grid_template_areas": null,
            "object_position": null,
            "object_fit": null,
            "grid_auto_columns": null,
            "margin": null,
            "display": null,
            "left": null
          }
        },
        "69b0fc9066d8457dab158eb23c3dd266": {
          "model_module": "@jupyter-widgets/controls",
          "model_name": "FloatProgressModel",
          "state": {
            "_view_name": "ProgressView",
            "style": "IPY_MODEL_7aa75fb87dd0458a81aaaa696fe0b629",
            "_dom_classes": [],
            "description": "100%",
            "_model_name": "FloatProgressModel",
            "bar_style": "success",
            "max": 1400,
            "_view_module": "@jupyter-widgets/controls",
            "_model_module_version": "1.5.0",
            "value": 1400,
            "_view_count": null,
            "_view_module_version": "1.5.0",
            "orientation": "horizontal",
            "min": 0,
            "description_tooltip": null,
            "_model_module": "@jupyter-widgets/controls",
            "layout": "IPY_MODEL_e24277a286ac45f39c62db4f570b1adf"
          }
        },
        "510d076b31e24c0d848221cddb55fc61": {
          "model_module": "@jupyter-widgets/controls",
          "model_name": "HTMLModel",
          "state": {
            "_view_name": "HTMLView",
            "style": "IPY_MODEL_49196af3b95c4ecd8df28aede84d1ed5",
            "_dom_classes": [],
            "description": "",
            "_model_name": "HTMLModel",
            "placeholder": "​",
            "_view_module": "@jupyter-widgets/controls",
            "_model_module_version": "1.5.0",
            "value": " 1400/1400 [01:20&lt;00:00, 17.31ba/s]",
            "_view_count": null,
            "_view_module_version": "1.5.0",
            "description_tooltip": null,
            "_model_module": "@jupyter-widgets/controls",
            "layout": "IPY_MODEL_bb1354236a59498bb2f9ac6c9f92fa62"
          }
        },
        "7aa75fb87dd0458a81aaaa696fe0b629": {
          "model_module": "@jupyter-widgets/controls",
          "model_name": "ProgressStyleModel",
          "state": {
            "_view_name": "StyleView",
            "_model_name": "ProgressStyleModel",
            "description_width": "initial",
            "_view_module": "@jupyter-widgets/base",
            "_model_module_version": "1.5.0",
            "_view_count": null,
            "_view_module_version": "1.2.0",
            "bar_color": null,
            "_model_module": "@jupyter-widgets/controls"
          }
        },
        "e24277a286ac45f39c62db4f570b1adf": {
          "model_module": "@jupyter-widgets/base",
          "model_name": "LayoutModel",
          "state": {
            "_view_name": "LayoutView",
            "grid_template_rows": null,
            "right": null,
            "justify_content": null,
            "_view_module": "@jupyter-widgets/base",
            "overflow": null,
            "_model_module_version": "1.2.0",
            "_view_count": null,
            "flex_flow": null,
            "width": null,
            "min_width": null,
            "border": null,
            "align_items": null,
            "bottom": null,
            "_model_module": "@jupyter-widgets/base",
            "top": null,
            "grid_column": null,
            "overflow_y": null,
            "overflow_x": null,
            "grid_auto_flow": null,
            "grid_area": null,
            "grid_template_columns": null,
            "flex": null,
            "_model_name": "LayoutModel",
            "justify_items": null,
            "grid_row": null,
            "max_height": null,
            "align_content": null,
            "visibility": null,
            "align_self": null,
            "height": null,
            "min_height": null,
            "padding": null,
            "grid_auto_rows": null,
            "grid_gap": null,
            "max_width": null,
            "order": null,
            "_view_module_version": "1.2.0",
            "grid_template_areas": null,
            "object_position": null,
            "object_fit": null,
            "grid_auto_columns": null,
            "margin": null,
            "display": null,
            "left": null
          }
        },
        "49196af3b95c4ecd8df28aede84d1ed5": {
          "model_module": "@jupyter-widgets/controls",
          "model_name": "DescriptionStyleModel",
          "state": {
            "_view_name": "StyleView",
            "_model_name": "DescriptionStyleModel",
            "description_width": "",
            "_view_module": "@jupyter-widgets/base",
            "_model_module_version": "1.5.0",
            "_view_count": null,
            "_view_module_version": "1.2.0",
            "_model_module": "@jupyter-widgets/controls"
          }
        },
        "bb1354236a59498bb2f9ac6c9f92fa62": {
          "model_module": "@jupyter-widgets/base",
          "model_name": "LayoutModel",
          "state": {
            "_view_name": "LayoutView",
            "grid_template_rows": null,
            "right": null,
            "justify_content": null,
            "_view_module": "@jupyter-widgets/base",
            "overflow": null,
            "_model_module_version": "1.2.0",
            "_view_count": null,
            "flex_flow": null,
            "width": null,
            "min_width": null,
            "border": null,
            "align_items": null,
            "bottom": null,
            "_model_module": "@jupyter-widgets/base",
            "top": null,
            "grid_column": null,
            "overflow_y": null,
            "overflow_x": null,
            "grid_auto_flow": null,
            "grid_area": null,
            "grid_template_columns": null,
            "flex": null,
            "_model_name": "LayoutModel",
            "justify_items": null,
            "grid_row": null,
            "max_height": null,
            "align_content": null,
            "visibility": null,
            "align_self": null,
            "height": null,
            "min_height": null,
            "padding": null,
            "grid_auto_rows": null,
            "grid_gap": null,
            "max_width": null,
            "order": null,
            "_view_module_version": "1.2.0",
            "grid_template_areas": null,
            "object_position": null,
            "object_fit": null,
            "grid_auto_columns": null,
            "margin": null,
            "display": null,
            "left": null
          }
        },
        "0793222e0f79400780e071e50a32350e": {
          "model_module": "@jupyter-widgets/controls",
          "model_name": "HBoxModel",
          "state": {
            "_view_name": "HBoxView",
            "_dom_classes": [],
            "_model_name": "HBoxModel",
            "_view_module": "@jupyter-widgets/controls",
            "_model_module_version": "1.5.0",
            "_view_count": null,
            "_view_module_version": "1.5.0",
            "box_style": "",
            "layout": "IPY_MODEL_7530189691614d52aad0802425a9ddd5",
            "_model_module": "@jupyter-widgets/controls",
            "children": [
              "IPY_MODEL_b4c54300a0c44389a9ea33d2953e2961",
              "IPY_MODEL_b4477bca5d0f4776963029b2b30dfbbf"
            ]
          }
        },
        "7530189691614d52aad0802425a9ddd5": {
          "model_module": "@jupyter-widgets/base",
          "model_name": "LayoutModel",
          "state": {
            "_view_name": "LayoutView",
            "grid_template_rows": null,
            "right": null,
            "justify_content": null,
            "_view_module": "@jupyter-widgets/base",
            "overflow": null,
            "_model_module_version": "1.2.0",
            "_view_count": null,
            "flex_flow": null,
            "width": null,
            "min_width": null,
            "border": null,
            "align_items": null,
            "bottom": null,
            "_model_module": "@jupyter-widgets/base",
            "top": null,
            "grid_column": null,
            "overflow_y": null,
            "overflow_x": null,
            "grid_auto_flow": null,
            "grid_area": null,
            "grid_template_columns": null,
            "flex": null,
            "_model_name": "LayoutModel",
            "justify_items": null,
            "grid_row": null,
            "max_height": null,
            "align_content": null,
            "visibility": null,
            "align_self": null,
            "height": null,
            "min_height": null,
            "padding": null,
            "grid_auto_rows": null,
            "grid_gap": null,
            "max_width": null,
            "order": null,
            "_view_module_version": "1.2.0",
            "grid_template_areas": null,
            "object_position": null,
            "object_fit": null,
            "grid_auto_columns": null,
            "margin": null,
            "display": null,
            "left": null
          }
        },
        "b4c54300a0c44389a9ea33d2953e2961": {
          "model_module": "@jupyter-widgets/controls",
          "model_name": "FloatProgressModel",
          "state": {
            "_view_name": "ProgressView",
            "style": "IPY_MODEL_6380020711f8438287e48de5c559c47b",
            "_dom_classes": [],
            "description": "100%",
            "_model_name": "FloatProgressModel",
            "bar_style": "success",
            "max": 60,
            "_view_module": "@jupyter-widgets/controls",
            "_model_module_version": "1.5.0",
            "value": 60,
            "_view_count": null,
            "_view_module_version": "1.5.0",
            "orientation": "horizontal",
            "min": 0,
            "description_tooltip": null,
            "_model_module": "@jupyter-widgets/controls",
            "layout": "IPY_MODEL_6bb7240cbfbe451888e5a3b54861e8e4"
          }
        },
        "b4477bca5d0f4776963029b2b30dfbbf": {
          "model_module": "@jupyter-widgets/controls",
          "model_name": "HTMLModel",
          "state": {
            "_view_name": "HTMLView",
            "style": "IPY_MODEL_ab67d76bb7d145ae8108c99611d29348",
            "_dom_classes": [],
            "description": "",
            "_model_name": "HTMLModel",
            "placeholder": "​",
            "_view_module": "@jupyter-widgets/controls",
            "_model_module_version": "1.5.0",
            "value": " 60/60 [00:03&lt;00:00, 15.85ba/s]",
            "_view_count": null,
            "_view_module_version": "1.5.0",
            "description_tooltip": null,
            "_model_module": "@jupyter-widgets/controls",
            "layout": "IPY_MODEL_466cb82eb12a4a92810773c2b6793c04"
          }
        },
        "6380020711f8438287e48de5c559c47b": {
          "model_module": "@jupyter-widgets/controls",
          "model_name": "ProgressStyleModel",
          "state": {
            "_view_name": "StyleView",
            "_model_name": "ProgressStyleModel",
            "description_width": "initial",
            "_view_module": "@jupyter-widgets/base",
            "_model_module_version": "1.5.0",
            "_view_count": null,
            "_view_module_version": "1.2.0",
            "bar_color": null,
            "_model_module": "@jupyter-widgets/controls"
          }
        },
        "6bb7240cbfbe451888e5a3b54861e8e4": {
          "model_module": "@jupyter-widgets/base",
          "model_name": "LayoutModel",
          "state": {
            "_view_name": "LayoutView",
            "grid_template_rows": null,
            "right": null,
            "justify_content": null,
            "_view_module": "@jupyter-widgets/base",
            "overflow": null,
            "_model_module_version": "1.2.0",
            "_view_count": null,
            "flex_flow": null,
            "width": null,
            "min_width": null,
            "border": null,
            "align_items": null,
            "bottom": null,
            "_model_module": "@jupyter-widgets/base",
            "top": null,
            "grid_column": null,
            "overflow_y": null,
            "overflow_x": null,
            "grid_auto_flow": null,
            "grid_area": null,
            "grid_template_columns": null,
            "flex": null,
            "_model_name": "LayoutModel",
            "justify_items": null,
            "grid_row": null,
            "max_height": null,
            "align_content": null,
            "visibility": null,
            "align_self": null,
            "height": null,
            "min_height": null,
            "padding": null,
            "grid_auto_rows": null,
            "grid_gap": null,
            "max_width": null,
            "order": null,
            "_view_module_version": "1.2.0",
            "grid_template_areas": null,
            "object_position": null,
            "object_fit": null,
            "grid_auto_columns": null,
            "margin": null,
            "display": null,
            "left": null
          }
        },
        "ab67d76bb7d145ae8108c99611d29348": {
          "model_module": "@jupyter-widgets/controls",
          "model_name": "DescriptionStyleModel",
          "state": {
            "_view_name": "StyleView",
            "_model_name": "DescriptionStyleModel",
            "description_width": "",
            "_view_module": "@jupyter-widgets/base",
            "_model_module_version": "1.5.0",
            "_view_count": null,
            "_view_module_version": "1.2.0",
            "_model_module": "@jupyter-widgets/controls"
          }
        },
        "466cb82eb12a4a92810773c2b6793c04": {
          "model_module": "@jupyter-widgets/base",
          "model_name": "LayoutModel",
          "state": {
            "_view_name": "LayoutView",
            "grid_template_rows": null,
            "right": null,
            "justify_content": null,
            "_view_module": "@jupyter-widgets/base",
            "overflow": null,
            "_model_module_version": "1.2.0",
            "_view_count": null,
            "flex_flow": null,
            "width": null,
            "min_width": null,
            "border": null,
            "align_items": null,
            "bottom": null,
            "_model_module": "@jupyter-widgets/base",
            "top": null,
            "grid_column": null,
            "overflow_y": null,
            "overflow_x": null,
            "grid_auto_flow": null,
            "grid_area": null,
            "grid_template_columns": null,
            "flex": null,
            "_model_name": "LayoutModel",
            "justify_items": null,
            "grid_row": null,
            "max_height": null,
            "align_content": null,
            "visibility": null,
            "align_self": null,
            "height": null,
            "min_height": null,
            "padding": null,
            "grid_auto_rows": null,
            "grid_gap": null,
            "max_width": null,
            "order": null,
            "_view_module_version": "1.2.0",
            "grid_template_areas": null,
            "object_position": null,
            "object_fit": null,
            "grid_auto_columns": null,
            "margin": null,
            "display": null,
            "left": null
          }
        },
        "5c394de9e6be41329f9f99a589c5afee": {
          "model_module": "@jupyter-widgets/controls",
          "model_name": "HBoxModel",
          "state": {
            "_view_name": "HBoxView",
            "_dom_classes": [],
            "_model_name": "HBoxModel",
            "_view_module": "@jupyter-widgets/controls",
            "_model_module_version": "1.5.0",
            "_view_count": null,
            "_view_module_version": "1.5.0",
            "box_style": "",
            "layout": "IPY_MODEL_38cc4f21af2a4e9eaf139ef75cd5591a",
            "_model_module": "@jupyter-widgets/controls",
            "children": [
              "IPY_MODEL_5a50c9b8fd714d59a4ec36b8de6d4e29",
              "IPY_MODEL_4bf22d2456bb441ea6a824d0cb204269"
            ]
          }
        },
        "38cc4f21af2a4e9eaf139ef75cd5591a": {
          "model_module": "@jupyter-widgets/base",
          "model_name": "LayoutModel",
          "state": {
            "_view_name": "LayoutView",
            "grid_template_rows": null,
            "right": null,
            "justify_content": null,
            "_view_module": "@jupyter-widgets/base",
            "overflow": null,
            "_model_module_version": "1.2.0",
            "_view_count": null,
            "flex_flow": null,
            "width": null,
            "min_width": null,
            "border": null,
            "align_items": null,
            "bottom": null,
            "_model_module": "@jupyter-widgets/base",
            "top": null,
            "grid_column": null,
            "overflow_y": null,
            "overflow_x": null,
            "grid_auto_flow": null,
            "grid_area": null,
            "grid_template_columns": null,
            "flex": null,
            "_model_name": "LayoutModel",
            "justify_items": null,
            "grid_row": null,
            "max_height": null,
            "align_content": null,
            "visibility": null,
            "align_self": null,
            "height": null,
            "min_height": null,
            "padding": null,
            "grid_auto_rows": null,
            "grid_gap": null,
            "max_width": null,
            "order": null,
            "_view_module_version": "1.2.0",
            "grid_template_areas": null,
            "object_position": null,
            "object_fit": null,
            "grid_auto_columns": null,
            "margin": null,
            "display": null,
            "left": null
          }
        },
        "5a50c9b8fd714d59a4ec36b8de6d4e29": {
          "model_module": "@jupyter-widgets/controls",
          "model_name": "FloatProgressModel",
          "state": {
            "_view_name": "ProgressView",
            "style": "IPY_MODEL_9ac81c2221be413eb54d69b0580f7d16",
            "_dom_classes": [],
            "description": "Downloading: ",
            "_model_name": "FloatProgressModel",
            "bar_style": "success",
            "max": 1287,
            "_view_module": "@jupyter-widgets/controls",
            "_model_module_version": "1.5.0",
            "value": 1287,
            "_view_count": null,
            "_view_module_version": "1.5.0",
            "orientation": "horizontal",
            "min": 0,
            "description_tooltip": null,
            "_model_module": "@jupyter-widgets/controls",
            "layout": "IPY_MODEL_bb2563432a344eb0885d54021d618291"
          }
        },
        "4bf22d2456bb441ea6a824d0cb204269": {
          "model_module": "@jupyter-widgets/controls",
          "model_name": "HTMLModel",
          "state": {
            "_view_name": "HTMLView",
            "style": "IPY_MODEL_421c5b25bf2d4c24bcb67dccb9ff8b69",
            "_dom_classes": [],
            "description": "",
            "_model_name": "HTMLModel",
            "placeholder": "​",
            "_view_module": "@jupyter-widgets/controls",
            "_model_module_version": "1.5.0",
            "value": " 2.64k/? [00:00&lt;00:00, 10.2kB/s]",
            "_view_count": null,
            "_view_module_version": "1.5.0",
            "description_tooltip": null,
            "_model_module": "@jupyter-widgets/controls",
            "layout": "IPY_MODEL_ef67d5db141a4962812b99fbf10d118d"
          }
        },
        "9ac81c2221be413eb54d69b0580f7d16": {
          "model_module": "@jupyter-widgets/controls",
          "model_name": "ProgressStyleModel",
          "state": {
            "_view_name": "StyleView",
            "_model_name": "ProgressStyleModel",
            "description_width": "initial",
            "_view_module": "@jupyter-widgets/base",
            "_model_module_version": "1.5.0",
            "_view_count": null,
            "_view_module_version": "1.2.0",
            "bar_color": null,
            "_model_module": "@jupyter-widgets/controls"
          }
        },
        "bb2563432a344eb0885d54021d618291": {
          "model_module": "@jupyter-widgets/base",
          "model_name": "LayoutModel",
          "state": {
            "_view_name": "LayoutView",
            "grid_template_rows": null,
            "right": null,
            "justify_content": null,
            "_view_module": "@jupyter-widgets/base",
            "overflow": null,
            "_model_module_version": "1.2.0",
            "_view_count": null,
            "flex_flow": null,
            "width": null,
            "min_width": null,
            "border": null,
            "align_items": null,
            "bottom": null,
            "_model_module": "@jupyter-widgets/base",
            "top": null,
            "grid_column": null,
            "overflow_y": null,
            "overflow_x": null,
            "grid_auto_flow": null,
            "grid_area": null,
            "grid_template_columns": null,
            "flex": null,
            "_model_name": "LayoutModel",
            "justify_items": null,
            "grid_row": null,
            "max_height": null,
            "align_content": null,
            "visibility": null,
            "align_self": null,
            "height": null,
            "min_height": null,
            "padding": null,
            "grid_auto_rows": null,
            "grid_gap": null,
            "max_width": null,
            "order": null,
            "_view_module_version": "1.2.0",
            "grid_template_areas": null,
            "object_position": null,
            "object_fit": null,
            "grid_auto_columns": null,
            "margin": null,
            "display": null,
            "left": null
          }
        },
        "421c5b25bf2d4c24bcb67dccb9ff8b69": {
          "model_module": "@jupyter-widgets/controls",
          "model_name": "DescriptionStyleModel",
          "state": {
            "_view_name": "StyleView",
            "_model_name": "DescriptionStyleModel",
            "description_width": "",
            "_view_module": "@jupyter-widgets/base",
            "_model_module_version": "1.5.0",
            "_view_count": null,
            "_view_module_version": "1.2.0",
            "_model_module": "@jupyter-widgets/controls"
          }
        },
        "ef67d5db141a4962812b99fbf10d118d": {
          "model_module": "@jupyter-widgets/base",
          "model_name": "LayoutModel",
          "state": {
            "_view_name": "LayoutView",
            "grid_template_rows": null,
            "right": null,
            "justify_content": null,
            "_view_module": "@jupyter-widgets/base",
            "overflow": null,
            "_model_module_version": "1.2.0",
            "_view_count": null,
            "flex_flow": null,
            "width": null,
            "min_width": null,
            "border": null,
            "align_items": null,
            "bottom": null,
            "_model_module": "@jupyter-widgets/base",
            "top": null,
            "grid_column": null,
            "overflow_y": null,
            "overflow_x": null,
            "grid_auto_flow": null,
            "grid_area": null,
            "grid_template_columns": null,
            "flex": null,
            "_model_name": "LayoutModel",
            "justify_items": null,
            "grid_row": null,
            "max_height": null,
            "align_content": null,
            "visibility": null,
            "align_self": null,
            "height": null,
            "min_height": null,
            "padding": null,
            "grid_auto_rows": null,
            "grid_gap": null,
            "max_width": null,
            "order": null,
            "_view_module_version": "1.2.0",
            "grid_template_areas": null,
            "object_position": null,
            "object_fit": null,
            "grid_auto_columns": null,
            "margin": null,
            "display": null,
            "left": null
          }
        },
        "f34bc0c9a54044a59d3510645f65931a": {
          "model_module": "@jupyter-widgets/controls",
          "model_name": "VBoxModel",
          "state": {
            "_view_name": "VBoxView",
            "_dom_classes": [],
            "_model_name": "VBoxModel",
            "_view_module": "@jupyter-widgets/controls",
            "_model_module_version": "1.5.0",
            "_view_count": null,
            "_view_module_version": "1.5.0",
            "box_style": "",
            "layout": "IPY_MODEL_f3b8d6a290de46f2a6736b5ca8885905",
            "_model_module": "@jupyter-widgets/controls",
            "children": [
              "IPY_MODEL_ac391dc03e04444e9ea6d25792a2e15b",
              "IPY_MODEL_b00f63103e4f4998af784cbcc1237fd9"
            ]
          }
        },
        "f3b8d6a290de46f2a6736b5ca8885905": {
          "model_module": "@jupyter-widgets/base",
          "model_name": "LayoutModel",
          "state": {
            "_view_name": "LayoutView",
            "grid_template_rows": null,
            "right": null,
            "justify_content": null,
            "_view_module": "@jupyter-widgets/base",
            "overflow": null,
            "_model_module_version": "1.2.0",
            "_view_count": null,
            "flex_flow": null,
            "width": null,
            "min_width": null,
            "border": null,
            "align_items": null,
            "bottom": null,
            "_model_module": "@jupyter-widgets/base",
            "top": null,
            "grid_column": null,
            "overflow_y": null,
            "overflow_x": null,
            "grid_auto_flow": null,
            "grid_area": null,
            "grid_template_columns": null,
            "flex": null,
            "_model_name": "LayoutModel",
            "justify_items": null,
            "grid_row": null,
            "max_height": null,
            "align_content": null,
            "visibility": null,
            "align_self": null,
            "height": null,
            "min_height": null,
            "padding": null,
            "grid_auto_rows": null,
            "grid_gap": null,
            "max_width": null,
            "order": null,
            "_view_module_version": "1.2.0",
            "grid_template_areas": null,
            "object_position": null,
            "object_fit": null,
            "grid_auto_columns": null,
            "margin": null,
            "display": null,
            "left": null
          }
        },
        "ac391dc03e04444e9ea6d25792a2e15b": {
          "model_module": "@jupyter-widgets/controls",
          "model_name": "LabelModel",
          "state": {
            "_view_name": "LabelView",
            "style": "IPY_MODEL_916ce3d020074e548b7d259af5856bef",
            "_dom_classes": [],
            "description": "",
            "_model_name": "LabelModel",
            "placeholder": "​",
            "_view_module": "@jupyter-widgets/controls",
            "_model_module_version": "1.5.0",
            "value": " 286.08MB of 286.08MB uploaded (0.22MB deduped)\r",
            "_view_count": null,
            "_view_module_version": "1.5.0",
            "description_tooltip": null,
            "_model_module": "@jupyter-widgets/controls",
            "layout": "IPY_MODEL_a7485a0fcbfa47d8a1cfbf0c6ef1b288"
          }
        },
        "b00f63103e4f4998af784cbcc1237fd9": {
          "model_module": "@jupyter-widgets/controls",
          "model_name": "FloatProgressModel",
          "state": {
            "_view_name": "ProgressView",
            "style": "IPY_MODEL_1c21b05b5680450fb92cf52d09ece55d",
            "_dom_classes": [],
            "description": "",
            "_model_name": "FloatProgressModel",
            "bar_style": "",
            "max": 1,
            "_view_module": "@jupyter-widgets/controls",
            "_model_module_version": "1.5.0",
            "value": 1,
            "_view_count": null,
            "_view_module_version": "1.5.0",
            "orientation": "horizontal",
            "min": 0,
            "description_tooltip": null,
            "_model_module": "@jupyter-widgets/controls",
            "layout": "IPY_MODEL_64eb2ebb22b94a77b41ca6e2f102acdc"
          }
        },
        "916ce3d020074e548b7d259af5856bef": {
          "model_module": "@jupyter-widgets/controls",
          "model_name": "DescriptionStyleModel",
          "state": {
            "_view_name": "StyleView",
            "_model_name": "DescriptionStyleModel",
            "description_width": "",
            "_view_module": "@jupyter-widgets/base",
            "_model_module_version": "1.5.0",
            "_view_count": null,
            "_view_module_version": "1.2.0",
            "_model_module": "@jupyter-widgets/controls"
          }
        },
        "a7485a0fcbfa47d8a1cfbf0c6ef1b288": {
          "model_module": "@jupyter-widgets/base",
          "model_name": "LayoutModel",
          "state": {
            "_view_name": "LayoutView",
            "grid_template_rows": null,
            "right": null,
            "justify_content": null,
            "_view_module": "@jupyter-widgets/base",
            "overflow": null,
            "_model_module_version": "1.2.0",
            "_view_count": null,
            "flex_flow": null,
            "width": null,
            "min_width": null,
            "border": null,
            "align_items": null,
            "bottom": null,
            "_model_module": "@jupyter-widgets/base",
            "top": null,
            "grid_column": null,
            "overflow_y": null,
            "overflow_x": null,
            "grid_auto_flow": null,
            "grid_area": null,
            "grid_template_columns": null,
            "flex": null,
            "_model_name": "LayoutModel",
            "justify_items": null,
            "grid_row": null,
            "max_height": null,
            "align_content": null,
            "visibility": null,
            "align_self": null,
            "height": null,
            "min_height": null,
            "padding": null,
            "grid_auto_rows": null,
            "grid_gap": null,
            "max_width": null,
            "order": null,
            "_view_module_version": "1.2.0",
            "grid_template_areas": null,
            "object_position": null,
            "object_fit": null,
            "grid_auto_columns": null,
            "margin": null,
            "display": null,
            "left": null
          }
        },
        "1c21b05b5680450fb92cf52d09ece55d": {
          "model_module": "@jupyter-widgets/controls",
          "model_name": "ProgressStyleModel",
          "state": {
            "_view_name": "StyleView",
            "_model_name": "ProgressStyleModel",
            "description_width": "",
            "_view_module": "@jupyter-widgets/base",
            "_model_module_version": "1.5.0",
            "_view_count": null,
            "_view_module_version": "1.2.0",
            "bar_color": null,
            "_model_module": "@jupyter-widgets/controls"
          }
        },
        "64eb2ebb22b94a77b41ca6e2f102acdc": {
          "model_module": "@jupyter-widgets/base",
          "model_name": "LayoutModel",
          "state": {
            "_view_name": "LayoutView",
            "grid_template_rows": null,
            "right": null,
            "justify_content": null,
            "_view_module": "@jupyter-widgets/base",
            "overflow": null,
            "_model_module_version": "1.2.0",
            "_view_count": null,
            "flex_flow": null,
            "width": null,
            "min_width": null,
            "border": null,
            "align_items": null,
            "bottom": null,
            "_model_module": "@jupyter-widgets/base",
            "top": null,
            "grid_column": null,
            "overflow_y": null,
            "overflow_x": null,
            "grid_auto_flow": null,
            "grid_area": null,
            "grid_template_columns": null,
            "flex": null,
            "_model_name": "LayoutModel",
            "justify_items": null,
            "grid_row": null,
            "max_height": null,
            "align_content": null,
            "visibility": null,
            "align_self": null,
            "height": null,
            "min_height": null,
            "padding": null,
            "grid_auto_rows": null,
            "grid_gap": null,
            "max_width": null,
            "order": null,
            "_view_module_version": "1.2.0",
            "grid_template_areas": null,
            "object_position": null,
            "object_fit": null,
            "grid_auto_columns": null,
            "margin": null,
            "display": null,
            "left": null
          }
        }
      }
    }
  },
  "cells": [
    {
      "cell_type": "markdown",
      "metadata": {
        "id": "view-in-github",
        "colab_type": "text"
      },
      "source": [
        "<a href=\"https://colab.research.google.com/github/rahul-art/jax_flax/blob/main/colabs/huggingface/Optimize_Hugging_Face_models_with_Weights_%26_Biases.ipynb\" target=\"_parent\"><img src=\"https://colab.research.google.com/assets/colab-badge.svg\" alt=\"Open In Colab\"/></a>"
      ]
    },
    {
      "cell_type": "markdown",
      "metadata": {
        "id": "CEozCfQgkkFF"
      },
      "source": [
        "# Optimize 🤗 Hugging Face models with Weights & Biases"
      ]
    },
    {
      "cell_type": "markdown",
      "metadata": {
        "id": "jpalU9rQmuGH"
      },
      "source": [
        "[Hugging Face](https://huggingface.co/) provides tools to quickly train neural networks for NLP (Natural Language Processing) on any task (classification, translation, question answering, etc) and any dataset with PyTorch and TensorFlow 2.0.\n",
        "\n",
        "Coupled with [Weights & Biases integration](https://docs.wandb.ai/integrations/huggingface), you can quickly train and monitor models for full traceability and reproducibility without any extra line of code! You just need to install the library, sign in, and your experiments will automatically be logged:\n",
        "\n",
        "```bash\n",
        "pip install wandb\n",
        "wandb login\n",
        "```\n",
        "\n",
        "**Note**: To enable logging to W&B, set `report_to` to `wandb` in your `TrainingArguments` or script."
      ]
    },
    {
      "cell_type": "markdown",
      "metadata": {
        "id": "jqi0CZFC3f7r"
      },
      "source": [
        "W&B integration with 🤗 Hugging Face can automatically:\n",
        "* log your configuration parameters\n",
        "* log your losses and metrics\n",
        "* log gradients and parameter distributions\n",
        "* log your model\n",
        "* keep track of your code\n",
        "* log your system metrics (GPU, CPU, memory, temperature, etc)"
      ]
    },
    {
      "cell_type": "markdown",
      "metadata": {
        "id": "pzrZ-PqKqdMF"
      },
      "source": [
        "## 🛠️ Installation and set-up\n",
        "\n",
        "We need the following 🤗 Hugging Face libraries:\n",
        "* [transformers](https://huggingface.co/transformers/) contains an API for training models and many pre-trained models\n",
        "* [tokenizers](https://huggingface.co/docs/tokenizers/python/latest/) is automatically installed by transformers and \"tokenize\" our data (ie it converts text to sequence of numbers)\n",
        "* [datasets](https://huggingface.co/docs/datasets/) contains a rich source of data and common metrics, perfect for prototyping\n",
        "\n",
        "We also install `wandb` to automatically instrument our training."
      ]
    },
    {
      "cell_type": "code",
      "metadata": {
        "id": "rBxbiGfsuvmU"
      },
      "source": [
        "!pip install -qqq transformers datasets wandb"
      ],
      "execution_count": null,
      "outputs": []
    },
    {
      "cell_type": "code",
      "metadata": {
        "id": "meB66v4UhywA"
      },
      "source": [
        "# Optional -> install latest version from source\n",
        "!pip install -qqq git+https://github.com/huggingface/transformers"
      ],
      "execution_count": null,
      "outputs": []
    },
    {
      "cell_type": "markdown",
      "metadata": {
        "id": "RH21Ojn6vGbD"
      },
      "source": [
        "We finally make sure we're logged into W&B so that our experiments can be associated to our account."
      ]
    },
    {
      "cell_type": "code",
      "metadata": {
        "id": "HZCgZZXJuzsz",
        "colab": {
          "base_uri": "https://localhost:8080/",
          "height": 68
        },
        "outputId": "3c70c2d1-ceb0-4dc9-a6c9-3103b30775c9"
      },
      "source": [
        "import wandb\n",
        "wandb.login()"
      ],
      "execution_count": null,
      "outputs": [
        {
          "output_type": "display_data",
          "data": {
            "application/javascript": [
              "\n",
              "        window._wandbApiKey = new Promise((resolve, reject) => {\n",
              "            function loadScript(url) {\n",
              "            return new Promise(function(resolve, reject) {\n",
              "                let newScript = document.createElement(\"script\");\n",
              "                newScript.onerror = reject;\n",
              "                newScript.onload = resolve;\n",
              "                document.body.appendChild(newScript);\n",
              "                newScript.src = url;\n",
              "            });\n",
              "            }\n",
              "            loadScript(\"https://cdn.jsdelivr.net/npm/postmate/build/postmate.min.js\").then(() => {\n",
              "            const iframe = document.createElement('iframe')\n",
              "            iframe.style.cssText = \"width:0;height:0;border:none\"\n",
              "            document.body.appendChild(iframe)\n",
              "            const handshake = new Postmate({\n",
              "                container: iframe,\n",
              "                url: 'https://wandb.ai/authorize'\n",
              "            });\n",
              "            const timeout = setTimeout(() => reject(\"Couldn't auto authenticate\"), 5000)\n",
              "            handshake.then(function(child) {\n",
              "                child.on('authorize', data => {\n",
              "                    clearTimeout(timeout)\n",
              "                    resolve(data)\n",
              "                });\n",
              "            });\n",
              "            })\n",
              "        });\n",
              "    "
            ],
            "text/plain": [
              "<IPython.core.display.Javascript object>"
            ]
          },
          "metadata": {
            "tags": []
          }
        },
        {
          "output_type": "stream",
          "text": [
            "\u001b[34m\u001b[1mwandb\u001b[0m: Appending key for api.wandb.ai to your netrc file: /root/.netrc\n"
          ],
          "name": "stderr"
        },
        {
          "output_type": "execute_result",
          "data": {
            "text/plain": [
              "True"
            ]
          },
          "metadata": {
            "tags": []
          },
          "execution_count": 3
        }
      ]
    },
    {
      "cell_type": "markdown",
      "metadata": {
        "id": "xRPG8acgJuTN"
      },
      "source": [
        "## 💡 Configuration tips\n",
        "\n",
        "W&B integration with Hugging Face can be configured to add extra functionalities:\n",
        "\n",
        "* auto-logging of models as artifacts: just set environment varilable `WANDB_LOG_MODEL` to `true`\n",
        "* log histograms of gradients and parameters: by default gradients are logged, you can also log parameters by setting environment variable `WANDB_WATCH` to `all`\n",
        "* set custom run names with `run_name` arg present in scripts or as part of `TrainingArguments`\n",
        "* organize runs by project with the `WANDB_PROJECT` environment variable\n",
        "\n",
        "For more details refer to [W&B + HF integration documentation](https://docs.wandb.ai/integrations/huggingface)."
      ]
    },
    {
      "cell_type": "markdown",
      "metadata": {
        "id": "BRtyaFL7Vady"
      },
      "source": [
        "Let's log every trained model."
      ]
    },
    {
      "cell_type": "code",
      "metadata": {
        "id": "WJ7tBo2YLIhx",
        "colab": {
          "base_uri": "https://localhost:8080/"
        },
        "outputId": "11159c8f-6440-43bc-e749-d7544422fa80"
      },
      "source": [
        "%env WANDB_LOG_MODEL=true"
      ],
      "execution_count": null,
      "outputs": [
        {
          "output_type": "stream",
          "text": [
            "env: WANDB_LOG_MODEL=true\n"
          ],
          "name": "stdout"
        }
      ]
    },
    {
      "cell_type": "markdown",
      "metadata": {
        "id": "UxASwx-yaZdU"
      },
      "source": [
        "## 🚅 Training a new model the quick way!\n",
        "\n",
        "When working on a new problem, you should always check [the summary of task](https://huggingface.co/transformers/task_summary.html) as there will often be a script that can already solve your task. At a minimum they will be a great source of inspiration for your own custom pipeline.\n",
        "\n",
        "Let's use the Hugging Face script responsible for training on any GLUE task, such as sequence classification."
      ]
    },
    {
      "cell_type": "code",
      "metadata": {
        "id": "g26n2GJIcwYx"
      },
      "source": [
        "!wget https://raw.githubusercontent.com/huggingface/transformers/master/examples/text-classification/run_glue.py -qq"
      ],
      "execution_count": null,
      "outputs": []
    },
    {
      "cell_type": "markdown",
      "metadata": {
        "id": "MKziKGvCeNyK"
      },
      "source": [
        "These scripts are automatically instrumented when `wandb` is installed and logged in.\n",
        "\n",
        "**Note:** set `report_to` to `wandb` to enable logging through W&B."
      ]
    },
    {
      "cell_type": "code",
      "metadata": {
        "id": "tar5sVhneUnF"
      },
      "source": [
        "!python run_glue.py \\\n",
        "  --report_to wandb \\\n",
        "  --model_name_or_path bert-base-uncased \\\n",
        "  --task_name MRPC \\\n",
        "  --learning_rate 1e-4 \\\n",
        "  --do_train \\\n",
        "  --do_eval \\\n",
        "  --max_steps 300 \\\n",
        "  --logging_steps 30 \\\n",
        "  --evaluation_strategy steps \\\n",
        "  --output_dir /tmp/MRPC \\\n",
        "  --overwrite_output_dir \\\n",
        "  --run_name demo"
      ],
      "execution_count": null,
      "outputs": []
    },
    {
      "cell_type": "markdown",
      "metadata": {
        "id": "_JHEGZ04j7d5"
      },
      "source": [
        "You just trained a model and can now visualize your metrics in your dashboard!\n",
        "\n",
        "![image.png](data:image/png;base64,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)"
      ]
    },
    {
      "cell_type": "markdown",
      "metadata": {
        "id": "5-qSMO3uWA79"
      },
      "source": [
        "\n",
        "In addition, your model files have been saved and versioned, along with associated metadata (evaluation & training metrics).\n",
        "\n",
        "![image.png](data:image/png;base64,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)\n",
        "\n"
      ]
    },
    {
      "cell_type": "markdown",
      "metadata": {
        "id": "AdSfCyPem2mP"
      },
      "source": [
        "# 🔬 Advanced usage & custom training\n",
        "\n",
        "Let's create our own logic for a more customized training."
      ]
    },
    {
      "cell_type": "markdown",
      "metadata": {
        "id": "ibrsagT9vvt9"
      },
      "source": [
        "### ✏️ Preparing a dataset\n",
        "\n",
        "The dataset will vary based on the task you work on. Let's work on sequence classification!\n",
        "\n",
        "Our dataset will be composed of sentences and their associated classes. For example if you wanted to identify the subject of a conversation, you could create a dataset such as:\n",
        "\n",
        "input | class\n",
        "--- | ---\n",
        "The team scored a goal in the last seconds | sports\n",
        "The debate was heated between the 2 parties | politics\n",
        "I've never tasted croissants so delicious ! | food\n",
        "\n",
        "The objective of our trained model will be to correctly identify the class associated to new sentences."
      ]
    },
    {
      "cell_type": "markdown",
      "metadata": {
        "id": "I128XueirZ6I"
      },
      "source": [
        "### 🔎 Finding a dataset\n",
        "\n",
        "If you don't have the right dataset, you can always explore the [Datasets Hub](https://huggingface.co/datasets). The [\"topic classification\" category](https://huggingface.co/datasets?filter=task_ids:topic-classification) contains many datasets suitable for prototyping this model.\n",
        "\n",
        "We select [\"Yahoo! Answers Topic Classification\"](https://huggingface.co/datasets/yahoo_answers_topics) and visualize it with the [Datasets viewer](https://huggingface.co/datasets/viewer/?dataset=yahoo_answers_topics).\n",
        "\n",
        "![image.png](data:image/png;base64,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)\n",
        "\n",
        "Each topic number reprersent a unique subject:\n",
        "\n",
        "* 0:\"Society & Culture\"\n",
        "* 1:\"Science & Mathematics\"\n",
        "* 2:\"Health\"\n",
        "* etc…\n",
        "\n",
        "They correspond to the output we will try to predict from the model."
      ]
    },
    {
      "cell_type": "markdown",
      "metadata": {
        "id": "UaCmUBjicy5i"
      },
      "source": [
        "### 🏷️ Loading a dataset\n",
        "\n",
        "Any dataset from the Datasets Hub can easily be loaded and is automatically downloaded if not present locally."
      ]
    },
    {
      "cell_type": "code",
      "metadata": {
        "id": "GaST634Bvurt",
        "colab": {
          "base_uri": "https://localhost:8080/",
          "height": 218,
          "referenced_widgets": [
            "ecb3790546d84661beca18cdd4e29722",
            "26c145e843564330bf69371225cf5858",
            "1f2d78dc203a4513b62b43d284f37c8b",
            "e8cc2ee361b6428aaabd38cfee113a8c",
            "ba50998b319d416890b237e6473b541b",
            "4963ebba97874dba969537ac07a746ca",
            "15d2cb5b09bb40d5af37b52ba3c07fae",
            "56652dfa90df4e4a8e6b71b96c773971",
            "443242ac7e3e4f0984d9ed0b41e110e6",
            "a0df1ad32a454ca39b0e7049807dfbb5",
            "e95a0cda228e47f3bcad8db3e2c1c0e5",
            "733881efeb844fb4892439f152519e32",
            "3f5488927a964bf2b241e17713360a0d",
            "b22913120d84400c809a7d1d295e21e5",
            "7a08e0b3ec7b4f1b8089a209724f37b3",
            "688e8df1745d45a9916a2c69451c40ac",
            "7e30cc842dff4dd4b754a886bf7afeeb",
            "1ee4a8e8932048b0b25727eba9ba86b4",
            "a2a30156e9ad423c8b985c2a2c1f4db0",
            "d5e25a75d6bb42ef915cd0c796a7bbff",
            "703c98403a6f44418bc6a0db9ce02024",
            "33b2bcc537dc432e90e10c091bd57bd8",
            "0a3af4abfa344dea8298954adba1e537",
            "1d4b3adf94764f25bcb214393b7c4362",
            "348f21631564466397d636df624a0624",
            "9ac251efec064d01b63d4697aa5eb5d4",
            "7f83f9db8fcf4340ac07a8425d8465f9",
            "3ac4793561fd4ad6940ff9ba618a4cf1",
            "769e93524ddb49839954f59efd97c975",
            "470553f140cc40b5b7c2cb7355c43300",
            "0eb7cae0ce3045d59213c5d6887390af",
            "4e16f53c0e154c1c97e7d6417927ea51",
            "2293c2f69d80484eaab28eb173be9971",
            "960f10505d0c4f708705cf0068e4c43e",
            "d476780e54ee4aa59cf7e13538c7a624",
            "c3980858bc3645f8bf1e3370a3de198d",
            "9d29d1764989480cb54299cf489066b1",
            "a9a94a65c9324be4a95e4166856dda00",
            "f38e09ab99dd4076a0b5ed6494c2f937",
            "c83415ba65a0457a9a8ef389762b695d"
          ]
        },
        "outputId": "a3045ffd-ebda-41f2-ee76-ae1d17cd98e8"
      },
      "source": [
        "from datasets import load_dataset\n",
        "dataset = load_dataset(\"yahoo_answers_topics\")"
      ],
      "execution_count": null,
      "outputs": [
        {
          "output_type": "display_data",
          "data": {
            "application/vnd.jupyter.widget-view+json": {
              "model_id": "ecb3790546d84661beca18cdd4e29722",
              "version_minor": 0,
              "version_major": 2
            },
            "text/plain": [
              "HBox(children=(FloatProgress(value=0.0, description='Downloading', max=1506.0, style=ProgressStyle(description…"
            ]
          },
          "metadata": {
            "tags": []
          }
        },
        {
          "output_type": "stream",
          "text": [
            "\n"
          ],
          "name": "stdout"
        },
        {
          "output_type": "display_data",
          "data": {
            "application/vnd.jupyter.widget-view+json": {
              "model_id": "443242ac7e3e4f0984d9ed0b41e110e6",
              "version_minor": 0,
              "version_major": 2
            },
            "text/plain": [
              "HBox(children=(FloatProgress(value=0.0, description='Downloading', max=884.0, style=ProgressStyle(description_…"
            ]
          },
          "metadata": {
            "tags": []
          }
        },
        {
          "output_type": "stream",
          "text": [
            "\n",
            "Downloading and preparing dataset yahoo_answers_topics/yahoo_answers_topics (download: 304.68 MiB, generated: 756.21 MiB, post-processed: Unknown size, total: 1.04 GiB) to /root/.cache/huggingface/datasets/yahoo_answers_topics/yahoo_answers_topics/1.0.0/a1bc78ef81f1057593777a45c199fada1fd6decb8a3d9f5aea63b47dc884b0dd...\n"
          ],
          "name": "stdout"
        },
        {
          "output_type": "display_data",
          "data": {
            "application/vnd.jupyter.widget-view+json": {
              "model_id": "7e30cc842dff4dd4b754a886bf7afeeb",
              "version_minor": 0,
              "version_major": 2
            },
            "text/plain": [
              "HBox(children=(FloatProgress(value=1.0, bar_style='info', description='Downloading', max=1.0, style=ProgressSt…"
            ]
          },
          "metadata": {
            "tags": []
          }
        },
        {
          "output_type": "stream",
          "text": [
            "\n"
          ],
          "name": "stdout"
        },
        {
          "output_type": "display_data",
          "data": {
            "application/vnd.jupyter.widget-view+json": {
              "model_id": "348f21631564466397d636df624a0624",
              "version_minor": 0,
              "version_major": 2
            },
            "text/plain": [
              "HBox(children=(FloatProgress(value=1.0, bar_style='info', max=1.0), HTML(value='')))"
            ]
          },
          "metadata": {
            "tags": []
          }
        },
        {
          "output_type": "stream",
          "text": [
            "\r"
          ],
          "name": "stdout"
        },
        {
          "output_type": "display_data",
          "data": {
            "application/vnd.jupyter.widget-view+json": {
              "model_id": "2293c2f69d80484eaab28eb173be9971",
              "version_minor": 0,
              "version_major": 2
            },
            "text/plain": [
              "HBox(children=(FloatProgress(value=1.0, bar_style='info', max=1.0), HTML(value='')))"
            ]
          },
          "metadata": {
            "tags": []
          }
        },
        {
          "output_type": "stream",
          "text": [
            "\rDataset yahoo_answers_topics downloaded and prepared to /root/.cache/huggingface/datasets/yahoo_answers_topics/yahoo_answers_topics/1.0.0/a1bc78ef81f1057593777a45c199fada1fd6decb8a3d9f5aea63b47dc884b0dd. Subsequent calls will reuse this data.\n"
          ],
          "name": "stdout"
        }
      ]
    },
    {
      "cell_type": "markdown",
      "metadata": {
        "id": "7SZVjevefHY3"
      },
      "source": [
        "Just printing our dataset object gives us a lot of information."
      ]
    },
    {
      "cell_type": "code",
      "metadata": {
        "id": "ETdblrnt7cOL",
        "colab": {
          "base_uri": "https://localhost:8080/"
        },
        "outputId": "8dd918cb-79fa-4cd4-c199-ed1ebf915186"
      },
      "source": [
        "dataset"
      ],
      "execution_count": null,
      "outputs": [
        {
          "output_type": "execute_result",
          "data": {
            "text/plain": [
              "DatasetDict({\n",
              "    train: Dataset({\n",
              "        features: ['id', 'topic', 'question_title', 'question_content', 'best_answer'],\n",
              "        num_rows: 1400000\n",
              "    })\n",
              "    test: Dataset({\n",
              "        features: ['id', 'topic', 'question_title', 'question_content', 'best_answer'],\n",
              "        num_rows: 60000\n",
              "    })\n",
              "})"
            ]
          },
          "metadata": {
            "tags": []
          },
          "execution_count": 8
        }
      ]
    },
    {
      "cell_type": "markdown",
      "metadata": {
        "id": "tZ0m1LmRvY-F"
      },
      "source": [
        "We can easily access any element."
      ]
    },
    {
      "cell_type": "code",
      "metadata": {
        "id": "co_tzVNefR_Y",
        "colab": {
          "base_uri": "https://localhost:8080/"
        },
        "outputId": "e60924c9-bb77-46eb-dd17-f74e920f0f71"
      },
      "source": [
        "dataset['train'][0]"
      ],
      "execution_count": null,
      "outputs": [
        {
          "output_type": "execute_result",
          "data": {
            "text/plain": [
              "{'best_answer': 'Optical mice use an LED and a camera to rapidly capture images of the surface beneath the mouse.  The infomation from the camera is analyzed by a DSP (Digital Signal Processor) and used to detect imperfections in the underlying surface and determine motion. Some materials, such as glass, mirrors or other very shiny, uniform surfaces interfere with the ability of the DSP to accurately analyze the surface beneath the mouse.  \\\\nSince glass is transparent and very uniform, the mouse is unable to pick up enough imperfections in the underlying surface to determine motion.  Mirrored surfaces are also a problem, since they constantly reflect back the same image, causing the DSP not to recognize motion properly. When the system is unable to see surface changes associated with movement, the mouse will not work properly.',\n",
              " 'id': 0,\n",
              " 'question_content': 'or even on some surfaces?',\n",
              " 'question_title': \"why doesn't an optical mouse work on a glass table?\",\n",
              " 'topic': 4}"
            ]
          },
          "metadata": {
            "tags": []
          },
          "execution_count": 9
        }
      ]
    },
    {
      "cell_type": "markdown",
      "metadata": {
        "id": "iGAelTk8wntj"
      },
      "source": [
        "`str2int` and `int2str` help us go from class label to their integer mapping."
      ]
    },
    {
      "cell_type": "code",
      "metadata": {
        "colab": {
          "base_uri": "https://localhost:8080/",
          "height": 35
        },
        "id": "CmZo3gT5wf4B",
        "outputId": "1c2806b1-8de9-4ded-e3c8-4312b80e73bf"
      },
      "source": [
        "dataset['train'].features['topic'].int2str(4)"
      ],
      "execution_count": null,
      "outputs": [
        {
          "output_type": "execute_result",
          "data": {
            "application/vnd.google.colaboratory.intrinsic+json": {
              "type": "string"
            },
            "text/plain": [
              "'Computers & Internet'"
            ]
          },
          "metadata": {
            "tags": []
          },
          "execution_count": 10
        }
      ]
    },
    {
      "cell_type": "markdown",
      "metadata": {
        "id": "A1lEFforveqA"
      },
      "source": [
        "For our topic classification task, we use `question_title` as input and try to predict `topic`."
      ]
    },
    {
      "cell_type": "code",
      "metadata": {
        "colab": {
          "base_uri": "https://localhost:8080/"
        },
        "id": "E08CcJw5GH3A",
        "outputId": "eafce65c-10c0-4659-e345-60a562da35d7"
      },
      "source": [
        "label_list = dataset['train'].unique('topic')\n",
        "label_list.sort()\n",
        "label_list"
      ],
      "execution_count": null,
      "outputs": [
        {
          "output_type": "execute_result",
          "data": {
            "text/plain": [
              "[0, 1, 2, 3, 4, 5, 6, 7, 8, 9]"
            ]
          },
          "metadata": {
            "tags": []
          },
          "execution_count": 11
        }
      ]
    },
    {
      "cell_type": "markdown",
      "metadata": {
        "id": "RPheXAgPG1Kh"
      },
      "source": [
        "This particular dataset is split between 10 different topics, that will be represented by 10 classes from our model output."
      ]
    },
    {
      "cell_type": "code",
      "metadata": {
        "colab": {
          "base_uri": "https://localhost:8080/"
        },
        "id": "6DPGXKJGGu09",
        "outputId": "eeff256e-b78e-4881-c24d-827e2f6fc05e"
      },
      "source": [
        "num_labels = len(label_list)\n",
        "num_labels"
      ],
      "execution_count": null,
      "outputs": [
        {
          "output_type": "execute_result",
          "data": {
            "text/plain": [
              "10"
            ]
          },
          "metadata": {
            "tags": []
          },
          "execution_count": 12
        }
      ]
    },
    {
      "cell_type": "markdown",
      "metadata": {
        "id": "usWg46-ehnf_"
      },
      "source": [
        "The \"topic\" class needs to be renamed to \"labels\" for the `Trainer` to find it."
      ]
    },
    {
      "cell_type": "code",
      "metadata": {
        "id": "q83oIvQmgFq5"
      },
      "source": [
        "dataset.rename_column_('topic', 'labels')"
      ],
      "execution_count": null,
      "outputs": []
    },
    {
      "cell_type": "markdown",
      "metadata": {
        "id": "bPuCdSLdxBDK"
      },
      "source": [
        "### ⚙️ Tokenizing the dataset\n",
        "\n",
        "In order to train a neural network, we need to convert our inputs to numbers:\n",
        "* the tokenizer divides a sequence of characters into tokens, ie sub-sequences (such as words, characters, sub-words…)\n",
        "* each unique token is mapped to a unique integer\n",
        "\n",
        "There are many [types of tokenizers](https://huggingface.co/transformers/tokenizer_summary.html). 🤗 Transformers can auto-select the right `Tokenizer` associated to a specific model."
      ]
    },
    {
      "cell_type": "code",
      "metadata": {
        "id": "--iRyvPLfCIc",
        "colab": {
          "base_uri": "https://localhost:8080/",
          "height": 66,
          "referenced_widgets": [
            "db4bd34c8cf04d1b96a59afb2ba81c77",
            "6440e101792d43e5819cf7b5441227d8",
            "51be7ab49aae490eac8255dbe94d3cc3",
            "79778cf3316b4d738329dc55133d301c",
            "f5073481776440c5a0acf47feb09b920",
            "240495e490594fd883cf8a656140a601",
            "66b331be48fb49b6bfbab956977350eb",
            "468fcc8c5a6744b5aac53f914797835e"
          ]
        },
        "outputId": "fbb00631-eb3a-4629-e034-4a6bcea31dc5"
      },
      "source": [
        "from transformers import AutoTokenizer\n",
        "tokenizer = AutoTokenizer.from_pretrained('distilbert-base-uncased')"
      ],
      "execution_count": null,
      "outputs": [
        {
          "output_type": "display_data",
          "data": {
            "application/vnd.jupyter.widget-view+json": {
              "model_id": "db4bd34c8cf04d1b96a59afb2ba81c77",
              "version_minor": 0,
              "version_major": 2
            },
            "text/plain": [
              "HBox(children=(FloatProgress(value=0.0, description='Downloading', max=442.0, style=ProgressStyle(description_…"
            ]
          },
          "metadata": {
            "tags": []
          }
        },
        {
          "output_type": "stream",
          "text": [
            "\n"
          ],
          "name": "stdout"
        }
      ]
    },
    {
      "cell_type": "markdown",
      "metadata": {
        "id": "N3rWNOaH7CX3"
      },
      "source": [
        "The tokenizer let us quickly preprocess our data."
      ]
    },
    {
      "cell_type": "code",
      "metadata": {
        "colab": {
          "base_uri": "https://localhost:8080/",
          "height": 35
        },
        "id": "YN5xRyUo6SJs",
        "outputId": "2fe12444-e35a-4cf7-d362-408df1199880"
      },
      "source": [
        "sample_input = dataset['train'][0]['question_title']\n",
        "sample_input"
      ],
      "execution_count": null,
      "outputs": [
        {
          "output_type": "execute_result",
          "data": {
            "application/vnd.google.colaboratory.intrinsic+json": {
              "type": "string"
            },
            "text/plain": [
              "\"why doesn't an optical mouse work on a glass table?\""
            ]
          },
          "metadata": {
            "tags": []
          },
          "execution_count": 15
        }
      ]
    },
    {
      "cell_type": "code",
      "metadata": {
        "colab": {
          "base_uri": "https://localhost:8080/"
        },
        "id": "cNwL_F5e7UPE",
        "outputId": "3f3908f5-2fe9-4c82-a3cb-3573406c51f9"
      },
      "source": [
        "tokenizer(sample_input)"
      ],
      "execution_count": null,
      "outputs": [
        {
          "output_type": "execute_result",
          "data": {
            "text/plain": [
              "{'input_ids': [101, 2339, 2987, 1005, 1056, 2019, 9380, 8000, 2147, 2006, 1037, 3221, 2795, 1029, 102], 'attention_mask': [1, 1, 1, 1, 1, 1, 1, 1, 1, 1, 1, 1, 1, 1, 1]}"
            ]
          },
          "metadata": {
            "tags": []
          },
          "execution_count": 16
        }
      ]
    },
    {
      "cell_type": "markdown",
      "metadata": {
        "id": "4-v89qc7KaC7"
      },
      "source": [
        "The tokenizer can quickly process an entire dataset and cache the results locally to avoid any future tokenization of the same data.\n",
        "\n",
        "We leverage `dataset.map(fn)` function which can efficiently apply any function to a dataset. We also take advantage of batch processing which is supported by the tokenizer and makes the operation even faster."
      ]
    },
    {
      "cell_type": "code",
      "metadata": {
        "colab": {
          "base_uri": "https://localhost:8080/",
          "height": 115,
          "referenced_widgets": [
            "99c93d0bd1c04f94bd34cee7f1a0c69d",
            "6e9219a7b6214ec4a2049e63a90a03d3",
            "69b0fc9066d8457dab158eb23c3dd266",
            "510d076b31e24c0d848221cddb55fc61",
            "7aa75fb87dd0458a81aaaa696fe0b629",
            "e24277a286ac45f39c62db4f570b1adf",
            "49196af3b95c4ecd8df28aede84d1ed5",
            "bb1354236a59498bb2f9ac6c9f92fa62",
            "0793222e0f79400780e071e50a32350e",
            "7530189691614d52aad0802425a9ddd5",
            "b4c54300a0c44389a9ea33d2953e2961",
            "b4477bca5d0f4776963029b2b30dfbbf",
            "6380020711f8438287e48de5c559c47b",
            "6bb7240cbfbe451888e5a3b54861e8e4",
            "ab67d76bb7d145ae8108c99611d29348",
            "466cb82eb12a4a92810773c2b6793c04"
          ]
        },
        "id": "Ea9Y743lw1sV",
        "outputId": "bf7f96e8-0c3f-4572-f15d-f37a0fdcaa88"
      },
      "source": [
        "dataset = dataset.map(lambda x: tokenizer(x['question_title'], truncation=True), batched=True)"
      ],
      "execution_count": null,
      "outputs": [
        {
          "output_type": "display_data",
          "data": {
            "application/vnd.jupyter.widget-view+json": {
              "model_id": "99c93d0bd1c04f94bd34cee7f1a0c69d",
              "version_minor": 0,
              "version_major": 2
            },
            "text/plain": [
              "HBox(children=(FloatProgress(value=0.0, max=1400.0), HTML(value='')))"
            ]
          },
          "metadata": {
            "tags": []
          }
        },
        {
          "output_type": "stream",
          "text": [
            "\n"
          ],
          "name": "stdout"
        },
        {
          "output_type": "display_data",
          "data": {
            "application/vnd.jupyter.widget-view+json": {
              "model_id": "0793222e0f79400780e071e50a32350e",
              "version_minor": 0,
              "version_major": 2
            },
            "text/plain": [
              "HBox(children=(FloatProgress(value=0.0, max=60.0), HTML(value='')))"
            ]
          },
          "metadata": {
            "tags": []
          }
        },
        {
          "output_type": "stream",
          "text": [
            "\n"
          ],
          "name": "stdout"
        }
      ]
    },
    {
      "cell_type": "markdown",
      "metadata": {
        "id": "qZBh-9sExsO4"
      },
      "source": [
        "We truncate the data to the max length supported by the model. During training, we will pass the tokenizer to pad inputs to the longest sequence of the batch (the model requires same length inputs in a single batch).\n",
        "\n",
        "Our dataset now contains new keys: `input_ids` (tokens) and `attention_mask` (needed for certain models)."
      ]
    },
    {
      "cell_type": "code",
      "metadata": {
        "colab": {
          "base_uri": "https://localhost:8080/"
        },
        "id": "Gh8oa-A62hoK",
        "outputId": "4b17ff5a-465c-4012-b002-7e8af877bc2d"
      },
      "source": [
        "dataset['train'][0]"
      ],
      "execution_count": null,
      "outputs": [
        {
          "output_type": "execute_result",
          "data": {
            "text/plain": [
              "{'attention_mask': [1, 1, 1, 1, 1, 1, 1, 1, 1, 1, 1, 1, 1, 1, 1],\n",
              " 'best_answer': 'Optical mice use an LED and a camera to rapidly capture images of the surface beneath the mouse.  The infomation from the camera is analyzed by a DSP (Digital Signal Processor) and used to detect imperfections in the underlying surface and determine motion. Some materials, such as glass, mirrors or other very shiny, uniform surfaces interfere with the ability of the DSP to accurately analyze the surface beneath the mouse.  \\\\nSince glass is transparent and very uniform, the mouse is unable to pick up enough imperfections in the underlying surface to determine motion.  Mirrored surfaces are also a problem, since they constantly reflect back the same image, causing the DSP not to recognize motion properly. When the system is unable to see surface changes associated with movement, the mouse will not work properly.',\n",
              " 'id': 0,\n",
              " 'input_ids': [101,\n",
              "  2339,\n",
              "  2987,\n",
              "  1005,\n",
              "  1056,\n",
              "  2019,\n",
              "  9380,\n",
              "  8000,\n",
              "  2147,\n",
              "  2006,\n",
              "  1037,\n",
              "  3221,\n",
              "  2795,\n",
              "  1029,\n",
              "  102],\n",
              " 'labels': 4,\n",
              " 'question_content': 'or even on some surfaces?',\n",
              " 'question_title': \"why doesn't an optical mouse work on a glass table?\"}"
            ]
          },
          "metadata": {
            "tags": []
          },
          "execution_count": 18
        }
      ]
    },
    {
      "cell_type": "markdown",
      "metadata": {
        "id": "kaV8yh6CHlWN"
      },
      "source": [
        "### ✨ Loading a model\n",
        "\n",
        "Plenty of models are available and can be explored on the [Model Hub](https://huggingface.co/models).\n",
        "\n",
        "Once a model has been selected, it can be automatically loaded and adapted to one of its supported tasks."
      ]
    },
    {
      "cell_type": "code",
      "metadata": {
        "id": "E6Rt8zfRHn8R"
      },
      "source": [
        "from transformers import AutoModelForSequenceClassification\n",
        "model = AutoModelForSequenceClassification.from_pretrained('distilbert-base-uncased', num_labels=num_labels)"
      ],
      "execution_count": null,
      "outputs": []
    },
    {
      "cell_type": "markdown",
      "metadata": {
        "id": "duRsYEdfJIPi"
      },
      "source": [
        "In this case, we are loading a pre-trained network to which a custom head has been added for sequence classification and presents 10 classes corresponding to the possible topics of this dataset.\n",
        "\n",
        "Let's make a function to return the topic prediction from a sample question."
      ]
    },
    {
      "cell_type": "code",
      "metadata": {
        "id": "RkRx2h0f__vD"
      },
      "source": [
        "import torch\n",
        "\n",
        "def get_topic(sentence, tokenize=tokenizer, model=model):\n",
        "    # tokenize the input\n",
        "    inputs = tokenizer(sentence, return_tensors='pt')\n",
        "    # ensure model and inputs are on the same device (GPU)\n",
        "    inputs = {name: tensor.cuda() for name, tensor in inputs.items()}\n",
        "    model = model.cuda()\n",
        "    # get prediction - 10 classes \"probabilities\" (not really true because they still need to be normalized)\n",
        "    with torch.no_grad():\n",
        "        predictions = model(**inputs)[0].cpu().numpy()\n",
        "    # get the top prediction class and convert it to its associated label\n",
        "    top_prediction = predictions.argmax().item()\n",
        "    return dataset['train'].features['labels'].int2str(top_prediction)"
      ],
      "execution_count": null,
      "outputs": []
    },
    {
      "cell_type": "markdown",
      "metadata": {
        "id": "hLaLPeHcCsl9"
      },
      "source": [
        "Let's test a prediction on a sample sentence."
      ]
    },
    {
      "cell_type": "code",
      "metadata": {
        "colab": {
          "base_uri": "https://localhost:8080/",
          "height": 35
        },
        "id": "W-mFuI8nA4EP",
        "outputId": "745eee57-a95f-4b85-8418-ce1be5b5ca6c"
      },
      "source": [
        "get_topic('Why is cheese so much better with wine?')"
      ],
      "execution_count": null,
      "outputs": [
        {
          "output_type": "execute_result",
          "data": {
            "application/vnd.google.colaboratory.intrinsic+json": {
              "type": "string"
            },
            "text/plain": [
              "'Science & Mathematics'"
            ]
          },
          "metadata": {
            "tags": []
          },
          "execution_count": 21
        }
      ]
    },
    {
      "cell_type": "markdown",
      "metadata": {
        "id": "oEo8LdBkCv-6"
      },
      "source": [
        "Obviously the model has not been trained yet so the results are still random."
      ]
    },
    {
      "cell_type": "markdown",
      "metadata": {
        "id": "4r3JPRKI3xcY"
      },
      "source": [
        "### 🎉 Training the model\n",
        "\n",
        "We now need to fine-tune the model based on our dataset.\n",
        "\n",
        "The `Trainer` class let us easily train a model and is very flexible.\n",
        "\n",
        "**Note:** set `report_to` to `wandb` in `TrainingArguments` to enable logging through W&B."
      ]
    },
    {
      "cell_type": "code",
      "metadata": {
        "id": "JVnTTd-NSl39"
      },
      "source": [
        "from transformers import Trainer, TrainingArguments\n",
        "\n",
        "args = TrainingArguments(\n",
        "    report_to = 'wandb',                     # enable logging to W&B\n",
        "    output_dir = 'topic_classification',    # output directory\n",
        "    overwrite_output_dir = True,\n",
        "    evaluation_strategy = 'steps',          # check evaluation metrics at each epoch\n",
        "    learning_rate = 5e-5,                   # we can customize learning rate\n",
        "    max_steps = 30000,\n",
        "    logging_steps = 100,                    # we will log every 100 steps\n",
        "    eval_steps = 5000,                      # we will perform evaluation every 500 steps\n",
        "    load_best_model_at_end = True,\n",
        "    metric_for_best_model = 'accuracy',\n",
        "    run_name = 'custom_training'            # name of the W&B run\n",
        ")"
      ],
      "execution_count": null,
      "outputs": []
    },
    {
      "cell_type": "markdown",
      "metadata": {
        "id": "5wmOV6n4W8Cw"
      },
      "source": [
        "For more customization, refer to [`TrainingArguments` documentation](https://huggingface.co/transformers/main_classes/trainer.html#transformers.TrainingArguments)."
      ]
    },
    {
      "cell_type": "markdown",
      "metadata": {
        "id": "TS5I7DmDRg2e"
      },
      "source": [
        "We can optionally define metrics to calculate in addition to the loss through the `compute_metrics` function.\n",
        "\n",
        "Several [metrics](https://huggingface.co/metrics) are readily available from the datasets library to monitor model performance."
      ]
    },
    {
      "cell_type": "code",
      "metadata": {
        "id": "fYc35gOU2hqK",
        "colab": {
          "base_uri": "https://localhost:8080/",
          "height": 66,
          "referenced_widgets": [
            "5c394de9e6be41329f9f99a589c5afee",
            "38cc4f21af2a4e9eaf139ef75cd5591a",
            "5a50c9b8fd714d59a4ec36b8de6d4e29",
            "4bf22d2456bb441ea6a824d0cb204269",
            "9ac81c2221be413eb54d69b0580f7d16",
            "bb2563432a344eb0885d54021d618291",
            "421c5b25bf2d4c24bcb67dccb9ff8b69",
            "ef67d5db141a4962812b99fbf10d118d"
          ]
        },
        "outputId": "a759aefd-3a97-41cf-aae2-c5bb4bba43c1"
      },
      "source": [
        "from datasets import load_metric\n",
        "import numpy as np\n",
        "\n",
        "accuracy_metric = load_metric(\"accuracy\")\n",
        "\n",
        "def compute_metrics(eval_pred):\n",
        "    predictions, labels = eval_pred\n",
        "    predictions = np.argmax(predictions, axis=1)\n",
        "    # metrics from the datasets library have a `compute` method\n",
        "    return accuracy_metric.compute(predictions=predictions, references=labels)"
      ],
      "execution_count": null,
      "outputs": [
        {
          "output_type": "display_data",
          "data": {
            "application/vnd.jupyter.widget-view+json": {
              "model_id": "5c394de9e6be41329f9f99a589c5afee",
              "version_minor": 0,
              "version_major": 2
            },
            "text/plain": [
              "HBox(children=(FloatProgress(value=0.0, description='Downloading', max=1287.0, style=ProgressStyle(description…"
            ]
          },
          "metadata": {
            "tags": []
          }
        },
        {
          "output_type": "stream",
          "text": [
            "\n"
          ],
          "name": "stdout"
        }
      ]
    },
    {
      "cell_type": "markdown",
      "metadata": {
        "id": "NhT0ZM8wdqyq"
      },
      "source": [
        "The `Trainer` handles all the training & evaluation logic."
      ]
    },
    {
      "cell_type": "code",
      "metadata": {
        "id": "vvuCOMirSgzF"
      },
      "source": [
        "trainer = Trainer(\n",
        "    model = model,                  # model to be trained\n",
        "    args = args,                    # training args\n",
        "    train_dataset=dataset['train'],\n",
        "    eval_dataset=dataset['test'],\n",
        "    tokenizer=tokenizer,            # for padding batched data\n",
        "    compute_metrics=compute_metrics # for custom metrics\n",
        ")"
      ],
      "execution_count": null,
      "outputs": []
    },
    {
      "cell_type": "markdown",
      "metadata": {
        "id": "TjNhyaShSx6R"
      },
      "source": [
        "We can verify that we initially have an accuracy of about 10% (random predictions over 10 classes)."
      ]
    },
    {
      "cell_type": "code",
      "metadata": {
        "colab": {
          "base_uri": "https://localhost:8080/",
          "height": 224
        },
        "id": "_k95LuenTA0E",
        "outputId": "fc06666d-02a6-41c5-8385-53db477eff8f"
      },
      "source": [
        "trainer.evaluate()"
      ],
      "execution_count": null,
      "outputs": [
        {
          "output_type": "display_data",
          "data": {
            "text/html": [
              "\n",
              "    <div>\n",
              "        <style>\n",
              "            /* Turns off some styling */\n",
              "            progress {\n",
              "                /* gets rid of default border in Firefox and Opera. */\n",
              "                border: none;\n",
              "                /* Needs to be in here for Safari polyfill so background images work as expected. */\n",
              "                background-size: auto;\n",
              "            }\n",
              "        </style>\n",
              "      \n",
              "      <progress value='7500' max='7500' style='width:300px; height:20px; vertical-align: middle;'></progress>\n",
              "      [7500/7500 01:05]\n",
              "    </div>\n",
              "    "
            ],
            "text/plain": [
              "<IPython.core.display.HTML object>"
            ]
          },
          "metadata": {
            "tags": []
          }
        },
        {
          "output_type": "stream",
          "text": [
            "\u001b[34m\u001b[1mwandb\u001b[0m: Currently logged in as: \u001b[33mborisd13\u001b[0m (use `wandb login --relogin` to force relogin)\n"
          ],
          "name": "stderr"
        },
        {
          "output_type": "display_data",
          "data": {
            "text/html": [
              "\n",
              "                Tracking run with wandb version 0.10.18<br/>\n",
              "                Syncing run <strong style=\"color:#cdcd00\">custom_training</strong> to <a href=\"https://wandb.ai\" target=\"_blank\">Weights & Biases</a> <a href=\"https://docs.wandb.com/integrations/jupyter.html\" target=\"_blank\">(Documentation)</a>.<br/>\n",
              "                Project page: <a href=\"https://wandb.ai/borisd13/huggingface\" target=\"_blank\">https://wandb.ai/borisd13/huggingface</a><br/>\n",
              "                Run page: <a href=\"https://wandb.ai/borisd13/huggingface/runs/2h4bhkix\" target=\"_blank\">https://wandb.ai/borisd13/huggingface/runs/2h4bhkix</a><br/>\n",
              "                Run data is saved locally in <code>/content/wandb/run-20210209_172257-2h4bhkix</code><br/><br/>\n",
              "            "
            ],
            "text/plain": [
              "<IPython.core.display.HTML object>"
            ]
          },
          "metadata": {
            "tags": []
          }
        },
        {
          "output_type": "execute_result",
          "data": {
            "text/plain": [
              "{'eval_accuracy': 0.09091666666666667,\n",
              " 'eval_loss': 2.3021934032440186,\n",
              " 'eval_runtime': 65.8421,\n",
              " 'eval_samples_per_second': 911.271}"
            ]
          },
          "metadata": {
            "tags": []
          },
          "execution_count": 25
        }
      ]
    },
    {
      "cell_type": "markdown",
      "metadata": {
        "id": "hU6QY_siRIQe"
      },
      "source": [
        "We start training by simply calling `train()`."
      ]
    },
    {
      "cell_type": "code",
      "metadata": {
        "colab": {
          "base_uri": "https://localhost:8080/",
          "height": 318
        },
        "id": "qUA8cINIcyUA",
        "outputId": "bc3c7a83-ffb5-4890-bf47-16fd7300d30b"
      },
      "source": [
        "trainer.train()"
      ],
      "execution_count": null,
      "outputs": [
        {
          "output_type": "display_data",
          "data": {
            "text/html": [
              "\n",
              "    <div>\n",
              "        <style>\n",
              "            /* Turns off some styling */\n",
              "            progress {\n",
              "                /* gets rid of default border in Firefox and Opera. */\n",
              "                border: none;\n",
              "                /* Needs to be in here for Safari polyfill so background images work as expected. */\n",
              "                background-size: auto;\n",
              "            }\n",
              "        </style>\n",
              "      \n",
              "      <progress value='30000' max='30000' style='width:300px; height:20px; vertical-align: middle;'></progress>\n",
              "      [30000/30000 31:56, Epoch 0/1]\n",
              "    </div>\n",
              "    <table border=\"1\" class=\"dataframe\">\n",
              "  <thead>\n",
              "    <tr style=\"text-align: left;\">\n",
              "      <th>Step</th>\n",
              "      <th>Training Loss</th>\n",
              "      <th>Validation Loss</th>\n",
              "      <th>Accuracy</th>\n",
              "      <th>Runtime</th>\n",
              "      <th>Samples Per Second</th>\n",
              "    </tr>\n",
              "  </thead>\n",
              "  <tbody>\n",
              "    <tr>\n",
              "      <td>5000</td>\n",
              "      <td>1.049900</td>\n",
              "      <td>1.083768</td>\n",
              "      <td>0.671300</td>\n",
              "      <td>92.011000</td>\n",
              "      <td>652.096000</td>\n",
              "    </tr>\n",
              "    <tr>\n",
              "      <td>10000</td>\n",
              "      <td>1.017000</td>\n",
              "      <td>1.013471</td>\n",
              "      <td>0.685467</td>\n",
              "      <td>66.556800</td>\n",
              "      <td>901.486000</td>\n",
              "    </tr>\n",
              "    <tr>\n",
              "      <td>15000</td>\n",
              "      <td>1.030200</td>\n",
              "      <td>0.972054</td>\n",
              "      <td>0.693467</td>\n",
              "      <td>66.247100</td>\n",
              "      <td>905.700000</td>\n",
              "    </tr>\n",
              "    <tr>\n",
              "      <td>20000</td>\n",
              "      <td>0.959600</td>\n",
              "      <td>0.947843</td>\n",
              "      <td>0.700733</td>\n",
              "      <td>66.361000</td>\n",
              "      <td>904.146000</td>\n",
              "    </tr>\n",
              "    <tr>\n",
              "      <td>25000</td>\n",
              "      <td>0.911400</td>\n",
              "      <td>0.925875</td>\n",
              "      <td>0.709117</td>\n",
              "      <td>66.494000</td>\n",
              "      <td>902.337000</td>\n",
              "    </tr>\n",
              "    <tr>\n",
              "      <td>30000</td>\n",
              "      <td>0.925700</td>\n",
              "      <td>0.911730</td>\n",
              "      <td>0.712600</td>\n",
              "      <td>66.514300</td>\n",
              "      <td>902.061000</td>\n",
              "    </tr>\n",
              "  </tbody>\n",
              "</table><p>"
            ],
            "text/plain": [
              "<IPython.core.display.HTML object>"
            ]
          },
          "metadata": {
            "tags": []
          }
        },
        {
          "output_type": "display_data",
          "data": {
            "text/html": [
              "\n",
              "    <div>\n",
              "        <style>\n",
              "            /* Turns off some styling */\n",
              "            progress {\n",
              "                /* gets rid of default border in Firefox and Opera. */\n",
              "                border: none;\n",
              "                /* Needs to be in here for Safari polyfill so background images work as expected. */\n",
              "                background-size: auto;\n",
              "            }\n",
              "        </style>\n",
              "      \n",
              "      <progress value='15000' max='7500' style='width:300px; height:20px; vertical-align: middle;'></progress>\n",
              "      [7500/7500 06:40]\n",
              "    </div>\n",
              "    "
            ],
            "text/plain": [
              "<IPython.core.display.HTML object>"
            ]
          },
          "metadata": {
            "tags": []
          }
        },
        {
          "output_type": "execute_result",
          "data": {
            "text/plain": [
              "TrainOutput(global_step=30000, training_loss=1.0100374313354492, metrics={'train_runtime': 1912.3902, 'train_samples_per_second': 15.687, 'total_flos': 2588044625785632, 'epoch': 0.17})"
            ]
          },
          "metadata": {
            "tags": []
          },
          "execution_count": 26
        }
      ]
    },
    {
      "cell_type": "markdown",
      "metadata": {
        "id": "Yt_VIC0sBa-H"
      },
      "source": [
        "We can monitor losses, metrics, gradients and parameters as the model trains.\n",
        "\n",
        "![image.png](data:image/png;base64,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)\n",
        "\n",
        "When training is complete, our model is logged and versioned along with its performance as metadata.\n",
        "\n",
        "![image.png](data:image/png;base64,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)"
      ]
    },
    {
      "cell_type": "markdown",
      "metadata": {
        "id": "fszSnIDTcfcA"
      },
      "source": [
        "We can now use the trained model for better predictions."
      ]
    },
    {
      "cell_type": "code",
      "metadata": {
        "id": "x1M9qNQF_VCb",
        "colab": {
          "base_uri": "https://localhost:8080/",
          "height": 35
        },
        "outputId": "fe8c8c42-bfdc-44f4-d92d-966ffe01acb8"
      },
      "source": [
        "get_topic('Why is cheese so much better with wine?')"
      ],
      "execution_count": null,
      "outputs": [
        {
          "output_type": "execute_result",
          "data": {
            "application/vnd.google.colaboratory.intrinsic+json": {
              "type": "string"
            },
            "text/plain": [
              "'Health'"
            ]
          },
          "metadata": {
            "tags": []
          },
          "execution_count": 27
        }
      ]
    },
    {
      "cell_type": "markdown",
      "metadata": {
        "id": "5_Y-retBaSBK"
      },
      "source": [
        "When we want to close our W&B run, we can call `wandb.finish()` (mainly useful in notebooks, called automatically in scripts)."
      ]
    },
    {
      "cell_type": "code",
      "metadata": {
        "id": "QMLkDa1TahpW",
        "colab": {
          "base_uri": "https://localhost:8080/",
          "height": 835,
          "referenced_widgets": [
            "f34bc0c9a54044a59d3510645f65931a",
            "f3b8d6a290de46f2a6736b5ca8885905",
            "ac391dc03e04444e9ea6d25792a2e15b",
            "b00f63103e4f4998af784cbcc1237fd9",
            "916ce3d020074e548b7d259af5856bef",
            "a7485a0fcbfa47d8a1cfbf0c6ef1b288",
            "1c21b05b5680450fb92cf52d09ece55d",
            "64eb2ebb22b94a77b41ca6e2f102acdc"
          ]
        },
        "outputId": "67307882-dba9-4ea9-b701-a41ef82ff171"
      },
      "source": [
        "wandb.finish()"
      ],
      "execution_count": null,
      "outputs": [
        {
          "output_type": "display_data",
          "data": {
            "text/html": [
              "<br/>Waiting for W&B process to finish, PID 302<br/>Program ended successfully."
            ],
            "text/plain": [
              "<IPython.core.display.HTML object>"
            ]
          },
          "metadata": {
            "tags": []
          }
        },
        {
          "output_type": "display_data",
          "data": {
            "application/vnd.jupyter.widget-view+json": {
              "model_id": "f34bc0c9a54044a59d3510645f65931a",
              "version_minor": 0,
              "version_major": 2
            },
            "text/plain": [
              "VBox(children=(Label(value=' 255.71MB of 255.71MB uploaded (0.22MB deduped)\\r'), FloatProgress(value=1.0, max=…"
            ]
          },
          "metadata": {
            "tags": []
          }
        },
        {
          "output_type": "display_data",
          "data": {
            "text/html": [
              "Find user logs for this run at: <code>/content/wandb/run-20210209_172257-2h4bhkix/logs/debug.log</code>"
            ],
            "text/plain": [
              "<IPython.core.display.HTML object>"
            ]
          },
          "metadata": {
            "tags": []
          }
        },
        {
          "output_type": "display_data",
          "data": {
            "text/html": [
              "Find internal logs for this run at: <code>/content/wandb/run-20210209_172257-2h4bhkix/logs/debug-internal.log</code>"
            ],
            "text/plain": [
              "<IPython.core.display.HTML object>"
            ]
          },
          "metadata": {
            "tags": []
          }
        },
        {
          "output_type": "display_data",
          "data": {
            "text/html": [
              "<h3>Run summary:</h3><br/><style>\n",
              "    table.wandb td:nth-child(1) { padding: 0 10px; text-align: right }\n",
              "    </style><table class=\"wandb\">\n",
              "<tr><td>eval/loss</td><td>0.91173</td></tr><tr><td>eval/accuracy</td><td>0.7126</td></tr><tr><td>eval/runtime</td><td>66.5143</td></tr><tr><td>eval/samples_per_second</td><td>902.061</td></tr><tr><td>_runtime</td><td>1916</td></tr><tr><td>_timestamp</td><td>1612893293</td></tr><tr><td>_step</td><td>30000</td></tr><tr><td>train/loss</td><td>0.9257</td></tr><tr><td>train/learning_rate</td><td>0.0</td></tr><tr><td>train/epoch</td><td>0.17</td></tr><tr><td>train/train_runtime</td><td>1912.3902</td></tr><tr><td>train/train_samples_per_second</td><td>15.687</td></tr><tr><td>train/total_flos</td><td>2588044625785632</td></tr></table>"
            ],
            "text/plain": [
              "<IPython.core.display.HTML object>"
            ]
          },
          "metadata": {
            "tags": []
          }
        },
        {
          "output_type": "display_data",
          "data": {
            "text/html": [
              "<h3>Run history:</h3><br/><style>\n",
              "    table.wandb td:nth-child(1) { padding: 0 10px; text-align: right }\n",
              "    </style><table class=\"wandb\">\n",
              "<tr><td>eval/loss</td><td>█▂▂▁▁▁▁</td></tr><tr><td>eval/accuracy</td><td>▁██████</td></tr><tr><td>eval/runtime</td><td>▁█▁▁▁▁▁</td></tr><tr><td>eval/samples_per_second</td><td>█▁█████</td></tr><tr><td>_runtime</td><td>▁▁▁▁▂▂▂▂▂▃▃▃▃▃▄▄▄▄▄▄▅▅▅▅▅▅▆▆▆▆▆▇▇▇▇▇████</td></tr><tr><td>_timestamp</td><td>▁▁▁▁▂▂▂▂▂▃▃▃▃▃▄▄▄▄▄▄▅▅▅▅▅▅▆▆▆▆▆▇▇▇▇▇████</td></tr><tr><td>_step</td><td>▁▁▁▁▂▂▂▂▂▃▃▃▃▃▃▄▄▄▄▄▅▅▅▅▅▅▆▆▆▆▆▆▇▇▇▇▇███</td></tr><tr><td>train/loss</td><td>█▇▇▅▅▅▄▄▃▄▃▅▅▃▄▂▃▃▂▃▁▃▂▃▄▃▂▂▂▂▃▂▂▂▁▂▂▂▂▂</td></tr><tr><td>train/learning_rate</td><td>████▇▇▇▇▇▆▆▆▆▆▆▅▅▅▅▅▅▄▄▄▄▄▃▃▃▃▃▃▂▂▂▂▂▁▁▁</td></tr><tr><td>train/epoch</td><td>▁▁▁▁▂▂▂▂▃▃▃▃▃▃▃▄▄▄▄▄▅▅▅▅▆▆▆▆▆▆▆▆▇▇▇▇████</td></tr><tr><td>train/train_runtime</td><td>▁</td></tr><tr><td>train/train_samples_per_second</td><td>▁</td></tr><tr><td>train/total_flos</td><td>▁</td></tr></table><br/>"
            ],
            "text/plain": [
              "<IPython.core.display.HTML object>"
            ]
          },
          "metadata": {
            "tags": []
          }
        },
        {
          "output_type": "display_data",
          "data": {
            "text/html": [
              "Synced 4 W&B file(s), 1 media file(s), 6 artifact file(s) and 1 other file(s)"
            ],
            "text/plain": [
              "<IPython.core.display.HTML object>"
            ]
          },
          "metadata": {
            "tags": []
          }
        },
        {
          "output_type": "display_data",
          "data": {
            "text/html": [
              "\n",
              "                    <br/>Synced <strong style=\"color:#cdcd00\">custom_training</strong>: <a href=\"https://wandb.ai/borisd13/huggingface/runs/2h4bhkix\" target=\"_blank\">https://wandb.ai/borisd13/huggingface/runs/2h4bhkix</a><br/>\n",
              "                "
            ],
            "text/plain": [
              "<IPython.core.display.HTML object>"
            ]
          },
          "metadata": {
            "tags": []
          }
        }
      ]
    },
    {
      "cell_type": "markdown",
      "metadata": {
        "id": "lWd6VeRuWJrb"
      },
      "source": [
        "Once you're happy with a model, don't forget to [share it with the word](https://huggingface.co/transformers/model_sharing.html) on the Model Hub!"
      ]
    },
    {
      "cell_type": "markdown",
      "metadata": {
        "id": "dVVmoN2CYZbG"
      },
      "source": [
        "## 📚 Resources\n",
        "\n",
        "* [Hugging Face and W&B integration documentation](https://docs.wandb.ai/integrations/huggingface) contains a few tips for taking most advantage of W&B\n",
        "* [🤗 Transformers documentation](https://huggingface.co/transformers/) is extremely thorough and full of examples"
      ]
    },
    {
      "cell_type": "markdown",
      "metadata": {
        "id": "FLseNeCbZgY6"
      },
      "source": [
        "## ❓ Questions about W&B\n",
        "\n",
        "If you have any questions about using W&B to track your model performance and predictions, please reach out to the [slack community](http://bit.ly/wandb-forum)."
      ]
    }
  ]
}